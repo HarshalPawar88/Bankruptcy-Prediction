{
  "nbformat": 4,
  "nbformat_minor": 0,
  "metadata": {
    "colab": {
      "name": "CAPSTONE-COMPANY BANKRUPTCY PREDICTION.ipynb",
      "provenance": [],
      "collapsed_sections": [],
      "include_colab_link": true
    },
    "kernelspec": {
      "name": "python3",
      "display_name": "Python 3"
    },
    "language_info": {
      "name": "python"
    }
  },
  "cells": [
    {
      "cell_type": "markdown",
      "metadata": {
        "id": "view-in-github",
        "colab_type": "text"
      },
      "source": [
        "<a href=\"https://colab.research.google.com/github/HarshalPawar88/Bankruptcy-Prediction/blob/main/CAPSTONE_COMPANY_BANKRUPTCY_PREDICTION.ipynb\" target=\"_parent\"><img src=\"https://colab.research.google.com/assets/colab-badge.svg\" alt=\"Open In Colab\"/></a>"
      ]
    },
    {
      "cell_type": "markdown",
      "metadata": {
        "id": "LGcl5Bv9ed6u"
      },
      "source": [
        "# **Problem Statement**"
      ]
    },
    {
      "cell_type": "markdown",
      "metadata": {
        "id": "BVqiQpgOgBxB"
      },
      "source": [
        "Prediction of bankruptcy is a phenomenon of increasing interest to firms who\n",
        "stand to loose money because on unpaid debts. Since computers can store huge dataset\n",
        "pertaining to bankruptcy making accurate predictions from them before hand is becoming\n",
        "important. \n",
        "\n",
        "The data were collected from the Taiwan Economic Journal for the years 1999 to 2009. Company bankruptcy was defined based on the business regulations of the Taiwan Stock Exchange.\n",
        "\n",
        " In this project you will use various classification algorithms on bankruptcy\n",
        "dataset to predict bankruptcies with satisfying accuracies long before the actual event."
      ]
    },
    {
      "cell_type": "markdown",
      "metadata": {
        "id": "AzGDqdC4fZ-b"
      },
      "source": [
        "# **Attribute Information**"
      ]
    },
    {
      "cell_type": "markdown",
      "metadata": {
        "id": "3qiYAbXrejna"
      },
      "source": [
        "Updated column names and description to make the data easier to understand (Y = Output feature, X = Input features)\n",
        "\n",
        "Y - Bankrupt?: Class label 1 : Yes , 0: No \n",
        "\n",
        "X1 - ROA(C) before interest and depreciation before interest: Return On Total Assets(C)\n",
        "\n",
        "X2 - ROA(A) before interest and % after tax: Return On Total Assets(A)\n",
        "\n",
        "X3 - ROA(B) before interest and depreciation after tax: Return On Total Assets(B)\n",
        "\n",
        "X4 - Operating Gross Margin: Gross Profit/Net Sales\n",
        "\n",
        "X5 - Realized Sales Gross Margin: Realized Gross Profit/Net Sales\n",
        "\n",
        "X6 - Operating Profit Rate: Operating Income/Net Sales\n",
        "\n",
        "X7 - Pre-tax net Interest Rate: Pre-Tax Income/Net Sales\n",
        "\n",
        "X8 - After-tax net Interest Rate: Net Income/Net Sales\n",
        "\n",
        "X9 - Non-industry income and expenditure/revenue: Net Non-operating Income Ratio\n",
        "\n",
        "X10 - Continuous interest rate (after tax): Net Income-Exclude Disposal Gain or Loss/Net Sales\n",
        "\n",
        "X11 - Operating Expense Rate: Operating Expenses/Net Sales\n",
        "\n",
        "X12 - Research and development expense rate: (Research and Development Expenses)/Net Sales\n",
        "\n",
        "X13 - Cash flow rate: Cash Flow from Operating/Current Liabilities\n",
        "\n",
        "X14 - Interest-bearing debt interest rate: Interest-bearing Debt/Equity\n",
        "\n",
        "X15 - Tax rate (A): Effective Tax Rate\n",
        "\n",
        "X16 - Net Value Per Share (B): Book Value Per Share(B)\n",
        "\n",
        "X17 - Net Value Per Share (A): Book Value Per Share(A)\n",
        "\n",
        "X18 - Net Value Per Share (C): Book Value Per Share(C)\n",
        "\n",
        "X19 - Persistent EPS in the Last Four Seasons: EPS-Net Income\n",
        "\n",
        "X20 - Cash Flow Per Share\n",
        "\n",
        "X21 - Revenue Per Share (Yuan ¥): Sales Per Share\n",
        "\n",
        "X22 - Operating Profit Per Share (Yuan ¥): Operating Income Per Share\n",
        "\n",
        "X23 - Per Share Net profit before tax (Yuan ¥): Pretax Income Per Share\n",
        "\n",
        "X24 - Realized Sales Gross Profit Growth Rate\n",
        "\n",
        "X25 - Operating Profit Growth Rate: Operating Income Growth\n",
        "\n",
        "X26 - After-tax Net Profit Growth Rate: Net Income Growth\n",
        "\n",
        "X27 - Regular Net Profit Growth Rate: Continuing Operating Income after Tax Growth\n",
        "\n",
        "X28 - Continuous Net Profit Growth Rate: Net Income-Excluding Disposal Gain or Loss Growth\n",
        "\n",
        "X29 - Total Asset Growth Rate: Total Asset Growth\n",
        "\n",
        "X30 - Net Value Growth Rate: Total Equity Growth\n",
        "\n",
        "X31 - Total Asset Return Growth Rate Ratio: Return on Total Asset Growth\n",
        "\n",
        "X32 - Cash Reinvestment %: Cash Reinvestment Ratio\n",
        "\n",
        "X33 - Current Ratio\n",
        "\n",
        "X34 - Quick Ratio: Acid Test\n",
        "\n",
        "X35 - Interest Expense Ratio: Interest Expenses/Total Revenue\n",
        "\n",
        "X36 - Total debt/Total net worth: Total Liability/Equity Ratio\n",
        "\n",
        "X37 - Debt ratio %: Liability/Total Assets\n",
        "\n",
        "X38 - Net worth/Assets: Equity/Total Assets\n",
        "\n",
        "X39 - Long-term fund suitability ratio (A): (Long-term Liability+Equity)/Fixed Assets\n",
        "\n",
        "X40 - Borrowing dependency: Cost of Interest-bearing Debt\n",
        "\n",
        "X41 - Contingent liabilities/Net worth: Contingent Liability/Equity\n",
        "\n",
        "X42 - Operating profit/Paid-in capital: Operating Income/Capital\n",
        "\n",
        "X43 - Net profit before tax/Paid-in capital: Pretax Income/Capital\n",
        "\n",
        "X44 - Inventory and accounts receivable/Net value: (Inventory+Accounts Receivables)/Equity\n",
        "\n",
        "X45 - Total Asset Turnover\n",
        "\n",
        "X46 - Accounts Receivable Turnover\n",
        "\n",
        "X47 - Average Collection Days: Days Receivable Outstanding\n",
        "\n",
        "X48 - Inventory Turnover Rate (times)\n",
        "\n",
        "X49 - Fixed Assets Turnover Frequency\n",
        "\n",
        "X50 - Net Worth Turnover Rate (times): Equity Turnover\n",
        "\n",
        "X51 - Revenue per person: Sales Per Employee\n",
        "\n",
        "X52 - Operating profit per person: Operation Income Per Employee\n",
        "\n",
        "X53 - Allocation rate per person: Fixed Assets Per Employee\n",
        "\n",
        "X54 - Working Capital to Total Assets\n",
        "\n",
        "X55 - Quick Assets/Total Assets\n",
        "\n",
        "X56 - Current Assets/Total Assets\n",
        "\n",
        "X57 - Cash/Total Assets\n",
        "\n",
        "X58 - Quick Assets/Current Liability\n",
        "\n",
        "X59 - Cash/Current Liability\n",
        "\n",
        "X60 - Current Liability to Assets\n",
        "\n",
        "X61 - Operating Funds to Liability\n",
        "\n",
        "X62 - Inventory/Working Capital\n",
        "\n",
        "X63 - Inventory/Current Liability\n",
        "\n",
        "X64 - Current Liabilities/Liability\n",
        "\n",
        "X65 - Working Capital/Equity\n",
        "\n",
        "X66 - Current Liabilities/Equity\n",
        "\n",
        "X67 - Long-term Liability to Current Assets\n",
        "\n",
        "X68 - Retained Earnings to Total Assets\n",
        "\n",
        "X69 - Total income/Total expense\n",
        "\n",
        "X70 - Total expense/Assets\n",
        "\n",
        "X71 - Current Asset Turnover Rate: Current Assets to Sales\n",
        "\n",
        "X72 - Quick Asset Turnover Rate: Quick Assets to Sales\n",
        "\n",
        "X73 - Working capitcal Turnover Rate: Working Capital to Sales\n",
        "\n",
        "X74 - Cash Turnover Rate: Cash to Sales\n",
        "\n",
        "X75 - Cash Flow to Sales\n",
        "\n",
        "X76 - Fixed Assets to Assets\n",
        "\n",
        "X77 - Current Liability to Liability\n",
        "\n",
        "X78 - Current Liability to Equity\n",
        "\n",
        "X79 - Equity to Long-term Liability\n",
        "\n",
        "X80 - Cash Flow to Total Assets\n",
        "\n",
        "X81 - Cash Flow to Liability\n",
        "\n",
        "X82 - CFO to Assets\n",
        "\n",
        "X83 - Cash Flow to Equity\n",
        "\n",
        "X84 - Current Liability to Current Assets\n",
        "\n",
        "X85 - Liability-Assets Flag: 1 if Total Liability exceeds Total Assets, 0 otherwise\n",
        "\n",
        "X86 - Net Income to Total Assets\n",
        "\n",
        "X87 - Total assets to GNP price\n",
        "\n",
        "X88 - No-credit Interval\n",
        "\n",
        "X89 - Gross Profit to Sales\n",
        "\n",
        "X90 - Net Income to Stockholder's Equity\n",
        "\n",
        "X91 - Liability to Equity\n",
        "\n",
        "X92 - Degree of Financial Leverage (DFL)\n",
        "\n",
        "X93 - Interest Coverage Ratio (Interest expense to EBIT)\n",
        "\n",
        "X94 - Net Income Flag: 1 if Net Income is Negative for the last two years, 0 otherwise\n",
        "\n",
        "X95 - Equity to Liability"
      ]
    },
    {
      "cell_type": "code",
      "metadata": {
        "colab": {
          "base_uri": "https://localhost:8080/"
        },
        "id": "VMSn5Q8F2IsB",
        "outputId": "31a0a291-a66a-4fbb-8d1e-756e2dfcc8f1"
      },
      "source": [
        "from google.colab import drive\n",
        "drive.mount('/content/drive')"
      ],
      "execution_count": 1,
      "outputs": [
        {
          "output_type": "stream",
          "name": "stdout",
          "text": [
            "Mounted at /content/drive\n"
          ]
        }
      ]
    },
    {
      "cell_type": "code",
      "metadata": {
        "id": "OLmoiGkN3DY7",
        "colab": {
          "base_uri": "https://localhost:8080/"
        },
        "outputId": "9ec23be4-b21c-463f-81c7-3eec525e18cb"
      },
      "source": [
        "import pandas as pd\n",
        "import numpy as np\n",
        "import matplotlib.pyplot as plt\n",
        "import seaborn as sns\n",
        "import imblearn\n",
        "from imblearn.under_sampling import NearMiss\n",
        "from collections import Counter\n",
        "from sklearn.metrics import classification_report, confusion_matrix, accuracy_score, f1_score, recall_score, precision_score, roc_auc_score\n",
        "from sklearn.model_selection import GridSearchCV\n",
        "from imblearn.over_sampling import SMOTE\n",
        "from sklearn.preprocessing import StandardScaler,MinMaxScaler\n",
        "from sklearn.model_selection import train_test_split\n",
        "from sklearn.svm import SVC\n",
        "from sklearn.linear_model import LogisticRegression\n",
        "from sklearn.tree import DecisionTreeClassifier\n",
        "from sklearn.ensemble import VotingClassifier\n",
        "from sklearn.ensemble import RandomForestClassifier\n",
        "from sklearn.preprocessing import PowerTransformer\n",
        "pd.options.display.float_format = '{:,.6f}'.format\n",
        "from imblearn.ensemble import BalancedBaggingClassifier\n",
        "import warnings\n",
        "warnings.filterwarnings(\"ignore\")\n",
        "from sklearn.naive_bayes import GaussianNB\n",
        "from statsmodels.stats.outliers_influence import variance_inflation_factor\n",
        "import statsmodels.api as sm"
      ],
      "execution_count": 2,
      "outputs": [
        {
          "output_type": "stream",
          "name": "stderr",
          "text": [
            "/usr/local/lib/python3.7/dist-packages/sklearn/externals/six.py:31: FutureWarning: The module is deprecated in version 0.21 and will be removed in version 0.23 since we've dropped support for Python 2.7. Please rely on the official version of six (https://pypi.org/project/six/).\n",
            "  \"(https://pypi.org/project/six/).\", FutureWarning)\n",
            "/usr/local/lib/python3.7/dist-packages/sklearn/utils/deprecation.py:144: FutureWarning: The sklearn.neighbors.base module is  deprecated in version 0.22 and will be removed in version 0.24. The corresponding classes / functions should instead be imported from sklearn.neighbors. Anything that cannot be imported from sklearn.neighbors is now part of the private API.\n",
            "  warnings.warn(message, FutureWarning)\n",
            "/usr/local/lib/python3.7/dist-packages/sklearn/utils/deprecation.py:144: FutureWarning: The sklearn.ensemble.bagging module is  deprecated in version 0.22 and will be removed in version 0.24. The corresponding classes / functions should instead be imported from sklearn.ensemble. Anything that cannot be imported from sklearn.ensemble is now part of the private API.\n",
            "  warnings.warn(message, FutureWarning)\n",
            "/usr/local/lib/python3.7/dist-packages/sklearn/utils/deprecation.py:144: FutureWarning: The sklearn.ensemble.base module is  deprecated in version 0.22 and will be removed in version 0.24. The corresponding classes / functions should instead be imported from sklearn.ensemble. Anything that cannot be imported from sklearn.ensemble is now part of the private API.\n",
            "  warnings.warn(message, FutureWarning)\n",
            "/usr/local/lib/python3.7/dist-packages/sklearn/utils/deprecation.py:144: FutureWarning: The sklearn.ensemble.forest module is  deprecated in version 0.22 and will be removed in version 0.24. The corresponding classes / functions should instead be imported from sklearn.ensemble. Anything that cannot be imported from sklearn.ensemble is now part of the private API.\n",
            "  warnings.warn(message, FutureWarning)\n",
            "/usr/local/lib/python3.7/dist-packages/sklearn/externals/joblib/__init__.py:15: FutureWarning: sklearn.externals.joblib is deprecated in 0.21 and will be removed in 0.23. Please import this functionality directly from joblib, which can be installed with: pip install joblib. If this warning is raised when loading pickled models, you may need to re-serialize those models with scikit-learn 0.21+.\n",
            "  warnings.warn(msg, category=FutureWarning)\n"
          ]
        }
      ]
    },
    {
      "cell_type": "code",
      "metadata": {
        "id": "r8I66IPu2JQw"
      },
      "source": [
        "df_1=pd.read_csv('/content/drive/MyDrive/Alma Better/Capstone Project/Copy of COMPANY BANKRUPTCY PREDICTION.csv')"
      ],
      "execution_count": 3,
      "outputs": []
    },
    {
      "cell_type": "code",
      "metadata": {
        "colab": {
          "base_uri": "https://localhost:8080/",
          "height": 253
        },
        "id": "-LT5mPKb3Bl7",
        "outputId": "10cae5c1-a5cd-4d09-d73c-74cb9da64e51"
      },
      "source": [
        "pd.set_option('display.max_columns', 96)\n",
        "pd.set_option('display.max_rows', 96)\n",
        "df_1.head(2)"
      ],
      "execution_count": 4,
      "outputs": [
        {
          "output_type": "execute_result",
          "data": {
            "text/html": [
              "<div>\n",
              "<style scoped>\n",
              "    .dataframe tbody tr th:only-of-type {\n",
              "        vertical-align: middle;\n",
              "    }\n",
              "\n",
              "    .dataframe tbody tr th {\n",
              "        vertical-align: top;\n",
              "    }\n",
              "\n",
              "    .dataframe thead th {\n",
              "        text-align: right;\n",
              "    }\n",
              "</style>\n",
              "<table border=\"1\" class=\"dataframe\">\n",
              "  <thead>\n",
              "    <tr style=\"text-align: right;\">\n",
              "      <th></th>\n",
              "      <th>Bankrupt?</th>\n",
              "      <th>ROA(C) before interest and depreciation before interest</th>\n",
              "      <th>ROA(A) before interest and % after tax</th>\n",
              "      <th>ROA(B) before interest and depreciation after tax</th>\n",
              "      <th>Operating Gross Margin</th>\n",
              "      <th>Realized Sales Gross Margin</th>\n",
              "      <th>Operating Profit Rate</th>\n",
              "      <th>Pre-tax net Interest Rate</th>\n",
              "      <th>After-tax net Interest Rate</th>\n",
              "      <th>Non-industry income and expenditure/revenue</th>\n",
              "      <th>Continuous interest rate (after tax)</th>\n",
              "      <th>Operating Expense Rate</th>\n",
              "      <th>Research and development expense rate</th>\n",
              "      <th>Cash flow rate</th>\n",
              "      <th>Interest-bearing debt interest rate</th>\n",
              "      <th>Tax rate (A)</th>\n",
              "      <th>Net Value Per Share (B)</th>\n",
              "      <th>Net Value Per Share (A)</th>\n",
              "      <th>Net Value Per Share (C)</th>\n",
              "      <th>Persistent EPS in the Last Four Seasons</th>\n",
              "      <th>Cash Flow Per Share</th>\n",
              "      <th>Revenue Per Share (Yuan ¥)</th>\n",
              "      <th>Operating Profit Per Share (Yuan ¥)</th>\n",
              "      <th>Per Share Net profit before tax (Yuan ¥)</th>\n",
              "      <th>Realized Sales Gross Profit Growth Rate</th>\n",
              "      <th>Operating Profit Growth Rate</th>\n",
              "      <th>After-tax Net Profit Growth Rate</th>\n",
              "      <th>Regular Net Profit Growth Rate</th>\n",
              "      <th>Continuous Net Profit Growth Rate</th>\n",
              "      <th>Total Asset Growth Rate</th>\n",
              "      <th>Net Value Growth Rate</th>\n",
              "      <th>Total Asset Return Growth Rate Ratio</th>\n",
              "      <th>Cash Reinvestment %</th>\n",
              "      <th>Current Ratio</th>\n",
              "      <th>Quick Ratio</th>\n",
              "      <th>Interest Expense Ratio</th>\n",
              "      <th>Total debt/Total net worth</th>\n",
              "      <th>Debt ratio %</th>\n",
              "      <th>Net worth/Assets</th>\n",
              "      <th>Long-term fund suitability ratio (A)</th>\n",
              "      <th>Borrowing dependency</th>\n",
              "      <th>Contingent liabilities/Net worth</th>\n",
              "      <th>Operating profit/Paid-in capital</th>\n",
              "      <th>Net profit before tax/Paid-in capital</th>\n",
              "      <th>Inventory and accounts receivable/Net value</th>\n",
              "      <th>Total Asset Turnover</th>\n",
              "      <th>Accounts Receivable Turnover</th>\n",
              "      <th>Average Collection Days</th>\n",
              "      <th>Inventory Turnover Rate (times)</th>\n",
              "      <th>Fixed Assets Turnover Frequency</th>\n",
              "      <th>Net Worth Turnover Rate (times)</th>\n",
              "      <th>Revenue per person</th>\n",
              "      <th>Operating profit per person</th>\n",
              "      <th>Allocation rate per person</th>\n",
              "      <th>Working Capital to Total Assets</th>\n",
              "      <th>Quick Assets/Total Assets</th>\n",
              "      <th>Current Assets/Total Assets</th>\n",
              "      <th>Cash/Total Assets</th>\n",
              "      <th>Quick Assets/Current Liability</th>\n",
              "      <th>Cash/Current Liability</th>\n",
              "      <th>Current Liability to Assets</th>\n",
              "      <th>Operating Funds to Liability</th>\n",
              "      <th>Inventory/Working Capital</th>\n",
              "      <th>Inventory/Current Liability</th>\n",
              "      <th>Current Liabilities/Liability</th>\n",
              "      <th>Working Capital/Equity</th>\n",
              "      <th>Current Liabilities/Equity</th>\n",
              "      <th>Long-term Liability to Current Assets</th>\n",
              "      <th>Retained Earnings to Total Assets</th>\n",
              "      <th>Total income/Total expense</th>\n",
              "      <th>Total expense/Assets</th>\n",
              "      <th>Current Asset Turnover Rate</th>\n",
              "      <th>Quick Asset Turnover Rate</th>\n",
              "      <th>Working capitcal Turnover Rate</th>\n",
              "      <th>Cash Turnover Rate</th>\n",
              "      <th>Cash Flow to Sales</th>\n",
              "      <th>Fixed Assets to Assets</th>\n",
              "      <th>Current Liability to Liability</th>\n",
              "      <th>Current Liability to Equity</th>\n",
              "      <th>Equity to Long-term Liability</th>\n",
              "      <th>Cash Flow to Total Assets</th>\n",
              "      <th>Cash Flow to Liability</th>\n",
              "      <th>CFO to Assets</th>\n",
              "      <th>Cash Flow to Equity</th>\n",
              "      <th>Current Liability to Current Assets</th>\n",
              "      <th>Liability-Assets Flag</th>\n",
              "      <th>Net Income to Total Assets</th>\n",
              "      <th>Total assets to GNP price</th>\n",
              "      <th>No-credit Interval</th>\n",
              "      <th>Gross Profit to Sales</th>\n",
              "      <th>Net Income to Stockholder's Equity</th>\n",
              "      <th>Liability to Equity</th>\n",
              "      <th>Degree of Financial Leverage (DFL)</th>\n",
              "      <th>Interest Coverage Ratio (Interest expense to EBIT)</th>\n",
              "      <th>Net Income Flag</th>\n",
              "      <th>Equity to Liability</th>\n",
              "    </tr>\n",
              "  </thead>\n",
              "  <tbody>\n",
              "    <tr>\n",
              "      <th>0</th>\n",
              "      <td>1</td>\n",
              "      <td>0.370594</td>\n",
              "      <td>0.424389</td>\n",
              "      <td>0.405750</td>\n",
              "      <td>0.601457</td>\n",
              "      <td>0.601457</td>\n",
              "      <td>0.998969</td>\n",
              "      <td>0.796887</td>\n",
              "      <td>0.808809</td>\n",
              "      <td>0.302646</td>\n",
              "      <td>0.780985</td>\n",
              "      <td>0.000126</td>\n",
              "      <td>0.000000</td>\n",
              "      <td>0.458143</td>\n",
              "      <td>0.000725</td>\n",
              "      <td>0.000000</td>\n",
              "      <td>0.147950</td>\n",
              "      <td>0.147950</td>\n",
              "      <td>0.147950</td>\n",
              "      <td>0.169141</td>\n",
              "      <td>0.311664</td>\n",
              "      <td>0.017560</td>\n",
              "      <td>0.095921</td>\n",
              "      <td>0.138736</td>\n",
              "      <td>0.022102</td>\n",
              "      <td>0.848195</td>\n",
              "      <td>0.688979</td>\n",
              "      <td>0.688979</td>\n",
              "      <td>0.217535</td>\n",
              "      <td>4,980,000,000.000000</td>\n",
              "      <td>0.000327</td>\n",
              "      <td>0.263100</td>\n",
              "      <td>0.363725</td>\n",
              "      <td>0.002259</td>\n",
              "      <td>0.001208</td>\n",
              "      <td>0.629951</td>\n",
              "      <td>0.021266</td>\n",
              "      <td>0.207576</td>\n",
              "      <td>0.792424</td>\n",
              "      <td>0.005024</td>\n",
              "      <td>0.390284</td>\n",
              "      <td>0.006479</td>\n",
              "      <td>0.095885</td>\n",
              "      <td>0.137757</td>\n",
              "      <td>0.398036</td>\n",
              "      <td>0.086957</td>\n",
              "      <td>0.001814</td>\n",
              "      <td>0.003487</td>\n",
              "      <td>0.000182</td>\n",
              "      <td>0.000117</td>\n",
              "      <td>0.032903</td>\n",
              "      <td>0.034164</td>\n",
              "      <td>0.392913</td>\n",
              "      <td>0.037135</td>\n",
              "      <td>0.672775</td>\n",
              "      <td>0.166673</td>\n",
              "      <td>0.190643</td>\n",
              "      <td>0.004094</td>\n",
              "      <td>0.001997</td>\n",
              "      <td>0.000147</td>\n",
              "      <td>0.147308</td>\n",
              "      <td>0.334015</td>\n",
              "      <td>0.276920</td>\n",
              "      <td>0.001036</td>\n",
              "      <td>0.676269</td>\n",
              "      <td>0.721275</td>\n",
              "      <td>0.339077</td>\n",
              "      <td>0.025592</td>\n",
              "      <td>0.903225</td>\n",
              "      <td>0.002022</td>\n",
              "      <td>0.064856</td>\n",
              "      <td>701,000,000.000000</td>\n",
              "      <td>6,550,000,000.000000</td>\n",
              "      <td>0.593831</td>\n",
              "      <td>458,000,000.000000</td>\n",
              "      <td>0.671568</td>\n",
              "      <td>0.424206</td>\n",
              "      <td>0.676269</td>\n",
              "      <td>0.339077</td>\n",
              "      <td>0.126549</td>\n",
              "      <td>0.637555</td>\n",
              "      <td>0.458609</td>\n",
              "      <td>0.520382</td>\n",
              "      <td>0.312905</td>\n",
              "      <td>0.118250</td>\n",
              "      <td>0</td>\n",
              "      <td>0.716845</td>\n",
              "      <td>0.009219</td>\n",
              "      <td>0.622879</td>\n",
              "      <td>0.601453</td>\n",
              "      <td>0.827890</td>\n",
              "      <td>0.290202</td>\n",
              "      <td>0.026601</td>\n",
              "      <td>0.564050</td>\n",
              "      <td>1</td>\n",
              "      <td>0.016469</td>\n",
              "    </tr>\n",
              "    <tr>\n",
              "      <th>1</th>\n",
              "      <td>1</td>\n",
              "      <td>0.464291</td>\n",
              "      <td>0.538214</td>\n",
              "      <td>0.516730</td>\n",
              "      <td>0.610235</td>\n",
              "      <td>0.610235</td>\n",
              "      <td>0.998946</td>\n",
              "      <td>0.797380</td>\n",
              "      <td>0.809301</td>\n",
              "      <td>0.303556</td>\n",
              "      <td>0.781506</td>\n",
              "      <td>0.000290</td>\n",
              "      <td>0.000000</td>\n",
              "      <td>0.461867</td>\n",
              "      <td>0.000647</td>\n",
              "      <td>0.000000</td>\n",
              "      <td>0.182251</td>\n",
              "      <td>0.182251</td>\n",
              "      <td>0.182251</td>\n",
              "      <td>0.208944</td>\n",
              "      <td>0.318137</td>\n",
              "      <td>0.021144</td>\n",
              "      <td>0.093722</td>\n",
              "      <td>0.169918</td>\n",
              "      <td>0.022080</td>\n",
              "      <td>0.848088</td>\n",
              "      <td>0.689693</td>\n",
              "      <td>0.689702</td>\n",
              "      <td>0.217620</td>\n",
              "      <td>6,110,000,000.000000</td>\n",
              "      <td>0.000443</td>\n",
              "      <td>0.264516</td>\n",
              "      <td>0.376709</td>\n",
              "      <td>0.006016</td>\n",
              "      <td>0.004039</td>\n",
              "      <td>0.635172</td>\n",
              "      <td>0.012502</td>\n",
              "      <td>0.171176</td>\n",
              "      <td>0.828824</td>\n",
              "      <td>0.005059</td>\n",
              "      <td>0.376760</td>\n",
              "      <td>0.005835</td>\n",
              "      <td>0.093743</td>\n",
              "      <td>0.168962</td>\n",
              "      <td>0.397725</td>\n",
              "      <td>0.064468</td>\n",
              "      <td>0.001286</td>\n",
              "      <td>0.004917</td>\n",
              "      <td>9,360,000,000.000000</td>\n",
              "      <td>719,000,000.000000</td>\n",
              "      <td>0.025484</td>\n",
              "      <td>0.006889</td>\n",
              "      <td>0.391590</td>\n",
              "      <td>0.012335</td>\n",
              "      <td>0.751111</td>\n",
              "      <td>0.127236</td>\n",
              "      <td>0.182419</td>\n",
              "      <td>0.014948</td>\n",
              "      <td>0.004136</td>\n",
              "      <td>0.001384</td>\n",
              "      <td>0.056963</td>\n",
              "      <td>0.341106</td>\n",
              "      <td>0.289642</td>\n",
              "      <td>0.005210</td>\n",
              "      <td>0.308589</td>\n",
              "      <td>0.731975</td>\n",
              "      <td>0.329740</td>\n",
              "      <td>0.023947</td>\n",
              "      <td>0.931065</td>\n",
              "      <td>0.002226</td>\n",
              "      <td>0.025516</td>\n",
              "      <td>0.000107</td>\n",
              "      <td>7,700,000,000.000000</td>\n",
              "      <td>0.593916</td>\n",
              "      <td>2,490,000,000.000000</td>\n",
              "      <td>0.671570</td>\n",
              "      <td>0.468828</td>\n",
              "      <td>0.308589</td>\n",
              "      <td>0.329740</td>\n",
              "      <td>0.120916</td>\n",
              "      <td>0.641100</td>\n",
              "      <td>0.459001</td>\n",
              "      <td>0.567101</td>\n",
              "      <td>0.314163</td>\n",
              "      <td>0.047775</td>\n",
              "      <td>0</td>\n",
              "      <td>0.795297</td>\n",
              "      <td>0.008323</td>\n",
              "      <td>0.623652</td>\n",
              "      <td>0.610237</td>\n",
              "      <td>0.839969</td>\n",
              "      <td>0.283846</td>\n",
              "      <td>0.264577</td>\n",
              "      <td>0.570175</td>\n",
              "      <td>1</td>\n",
              "      <td>0.020794</td>\n",
              "    </tr>\n",
              "  </tbody>\n",
              "</table>\n",
              "</div>"
            ],
            "text/plain": [
              "   Bankrupt?   ROA(C) before interest and depreciation before interest  \\\n",
              "0          1                                           0.370594          \n",
              "1          1                                           0.464291          \n",
              "\n",
              "    ROA(A) before interest and % after tax  \\\n",
              "0                                 0.424389   \n",
              "1                                 0.538214   \n",
              "\n",
              "    ROA(B) before interest and depreciation after tax  \\\n",
              "0                                           0.405750    \n",
              "1                                           0.516730    \n",
              "\n",
              "    Operating Gross Margin   Realized Sales Gross Margin  \\\n",
              "0                 0.601457                      0.601457   \n",
              "1                 0.610235                      0.610235   \n",
              "\n",
              "    Operating Profit Rate   Pre-tax net Interest Rate  \\\n",
              "0                0.998969                    0.796887   \n",
              "1                0.998946                    0.797380   \n",
              "\n",
              "    After-tax net Interest Rate   Non-industry income and expenditure/revenue  \\\n",
              "0                      0.808809                                      0.302646   \n",
              "1                      0.809301                                      0.303556   \n",
              "\n",
              "    Continuous interest rate (after tax)   Operating Expense Rate  \\\n",
              "0                               0.780985                 0.000126   \n",
              "1                               0.781506                 0.000290   \n",
              "\n",
              "    Research and development expense rate   Cash flow rate  \\\n",
              "0                                0.000000         0.458143   \n",
              "1                                0.000000         0.461867   \n",
              "\n",
              "    Interest-bearing debt interest rate   Tax rate (A)  \\\n",
              "0                              0.000725       0.000000   \n",
              "1                              0.000647       0.000000   \n",
              "\n",
              "    Net Value Per Share (B)   Net Value Per Share (A)  \\\n",
              "0                  0.147950                  0.147950   \n",
              "1                  0.182251                  0.182251   \n",
              "\n",
              "    Net Value Per Share (C)   Persistent EPS in the Last Four Seasons  \\\n",
              "0                  0.147950                                  0.169141   \n",
              "1                  0.182251                                  0.208944   \n",
              "\n",
              "    Cash Flow Per Share   Revenue Per Share (Yuan ¥)  \\\n",
              "0              0.311664                     0.017560   \n",
              "1              0.318137                     0.021144   \n",
              "\n",
              "    Operating Profit Per Share (Yuan ¥)  \\\n",
              "0                              0.095921   \n",
              "1                              0.093722   \n",
              "\n",
              "    Per Share Net profit before tax (Yuan ¥)  \\\n",
              "0                                   0.138736   \n",
              "1                                   0.169918   \n",
              "\n",
              "    Realized Sales Gross Profit Growth Rate   Operating Profit Growth Rate  \\\n",
              "0                                  0.022102                       0.848195   \n",
              "1                                  0.022080                       0.848088   \n",
              "\n",
              "    After-tax Net Profit Growth Rate   Regular Net Profit Growth Rate  \\\n",
              "0                           0.688979                         0.688979   \n",
              "1                           0.689693                         0.689702   \n",
              "\n",
              "    Continuous Net Profit Growth Rate   Total Asset Growth Rate  \\\n",
              "0                            0.217535      4,980,000,000.000000   \n",
              "1                            0.217620      6,110,000,000.000000   \n",
              "\n",
              "    Net Value Growth Rate   Total Asset Return Growth Rate Ratio  \\\n",
              "0                0.000327                               0.263100   \n",
              "1                0.000443                               0.264516   \n",
              "\n",
              "    Cash Reinvestment %   Current Ratio   Quick Ratio  \\\n",
              "0              0.363725        0.002259      0.001208   \n",
              "1              0.376709        0.006016      0.004039   \n",
              "\n",
              "    Interest Expense Ratio   Total debt/Total net worth   Debt ratio %  \\\n",
              "0                 0.629951                     0.021266       0.207576   \n",
              "1                 0.635172                     0.012502       0.171176   \n",
              "\n",
              "    Net worth/Assets   Long-term fund suitability ratio (A)  \\\n",
              "0           0.792424                               0.005024   \n",
              "1           0.828824                               0.005059   \n",
              "\n",
              "    Borrowing dependency   Contingent liabilities/Net worth  \\\n",
              "0               0.390284                           0.006479   \n",
              "1               0.376760                           0.005835   \n",
              "\n",
              "    Operating profit/Paid-in capital   Net profit before tax/Paid-in capital  \\\n",
              "0                           0.095885                                0.137757   \n",
              "1                           0.093743                                0.168962   \n",
              "\n",
              "    Inventory and accounts receivable/Net value   Total Asset Turnover  \\\n",
              "0                                      0.398036               0.086957   \n",
              "1                                      0.397725               0.064468   \n",
              "\n",
              "    Accounts Receivable Turnover   Average Collection Days  \\\n",
              "0                       0.001814                  0.003487   \n",
              "1                       0.001286                  0.004917   \n",
              "\n",
              "    Inventory Turnover Rate (times)   Fixed Assets Turnover Frequency  \\\n",
              "0                          0.000182                          0.000117   \n",
              "1              9,360,000,000.000000                719,000,000.000000   \n",
              "\n",
              "    Net Worth Turnover Rate (times)   Revenue per person  \\\n",
              "0                          0.032903             0.034164   \n",
              "1                          0.025484             0.006889   \n",
              "\n",
              "    Operating profit per person   Allocation rate per person  \\\n",
              "0                      0.392913                     0.037135   \n",
              "1                      0.391590                     0.012335   \n",
              "\n",
              "    Working Capital to Total Assets   Quick Assets/Total Assets  \\\n",
              "0                          0.672775                    0.166673   \n",
              "1                          0.751111                    0.127236   \n",
              "\n",
              "    Current Assets/Total Assets   Cash/Total Assets  \\\n",
              "0                      0.190643            0.004094   \n",
              "1                      0.182419            0.014948   \n",
              "\n",
              "    Quick Assets/Current Liability   Cash/Current Liability  \\\n",
              "0                         0.001997                 0.000147   \n",
              "1                         0.004136                 0.001384   \n",
              "\n",
              "    Current Liability to Assets   Operating Funds to Liability  \\\n",
              "0                      0.147308                       0.334015   \n",
              "1                      0.056963                       0.341106   \n",
              "\n",
              "    Inventory/Working Capital   Inventory/Current Liability  \\\n",
              "0                    0.276920                      0.001036   \n",
              "1                    0.289642                      0.005210   \n",
              "\n",
              "    Current Liabilities/Liability   Working Capital/Equity  \\\n",
              "0                        0.676269                 0.721275   \n",
              "1                        0.308589                 0.731975   \n",
              "\n",
              "    Current Liabilities/Equity   Long-term Liability to Current Assets  \\\n",
              "0                     0.339077                                0.025592   \n",
              "1                     0.329740                                0.023947   \n",
              "\n",
              "    Retained Earnings to Total Assets   Total income/Total expense  \\\n",
              "0                            0.903225                     0.002022   \n",
              "1                            0.931065                     0.002226   \n",
              "\n",
              "    Total expense/Assets   Current Asset Turnover Rate  \\\n",
              "0               0.064856            701,000,000.000000   \n",
              "1               0.025516                      0.000107   \n",
              "\n",
              "    Quick Asset Turnover Rate   Working capitcal Turnover Rate  \\\n",
              "0        6,550,000,000.000000                         0.593831   \n",
              "1        7,700,000,000.000000                         0.593916   \n",
              "\n",
              "    Cash Turnover Rate   Cash Flow to Sales   Fixed Assets to Assets  \\\n",
              "0   458,000,000.000000             0.671568                 0.424206   \n",
              "1 2,490,000,000.000000             0.671570                 0.468828   \n",
              "\n",
              "    Current Liability to Liability   Current Liability to Equity  \\\n",
              "0                         0.676269                      0.339077   \n",
              "1                         0.308589                      0.329740   \n",
              "\n",
              "    Equity to Long-term Liability   Cash Flow to Total Assets  \\\n",
              "0                        0.126549                    0.637555   \n",
              "1                        0.120916                    0.641100   \n",
              "\n",
              "    Cash Flow to Liability   CFO to Assets   Cash Flow to Equity  \\\n",
              "0                 0.458609        0.520382              0.312905   \n",
              "1                 0.459001        0.567101              0.314163   \n",
              "\n",
              "    Current Liability to Current Assets   Liability-Assets Flag  \\\n",
              "0                              0.118250                       0   \n",
              "1                              0.047775                       0   \n",
              "\n",
              "    Net Income to Total Assets   Total assets to GNP price  \\\n",
              "0                     0.716845                    0.009219   \n",
              "1                     0.795297                    0.008323   \n",
              "\n",
              "    No-credit Interval   Gross Profit to Sales  \\\n",
              "0             0.622879                0.601453   \n",
              "1             0.623652                0.610237   \n",
              "\n",
              "    Net Income to Stockholder's Equity   Liability to Equity  \\\n",
              "0                             0.827890              0.290202   \n",
              "1                             0.839969              0.283846   \n",
              "\n",
              "    Degree of Financial Leverage (DFL)  \\\n",
              "0                             0.026601   \n",
              "1                             0.264577   \n",
              "\n",
              "    Interest Coverage Ratio (Interest expense to EBIT)   Net Income Flag  \\\n",
              "0                                           0.564050                   1   \n",
              "1                                           0.570175                   1   \n",
              "\n",
              "    Equity to Liability  \n",
              "0              0.016469  \n",
              "1              0.020794  "
            ]
          },
          "metadata": {},
          "execution_count": 4
        }
      ]
    },
    {
      "cell_type": "code",
      "metadata": {
        "colab": {
          "base_uri": "https://localhost:8080/"
        },
        "id": "anUPK_Lu6PGC",
        "outputId": "7cfdef84-9ccd-41b7-c3fd-0ad6770cd9f0"
      },
      "source": [
        "print(df_1.isna().sum().sum())\n",
        "print(np.isnan(df_1).sum().sum())\n",
        "print(df_1.isnull().sum().sum())"
      ],
      "execution_count": 5,
      "outputs": [
        {
          "output_type": "stream",
          "name": "stdout",
          "text": [
            "0\n",
            "0\n",
            "0\n"
          ]
        }
      ]
    },
    {
      "cell_type": "code",
      "metadata": {
        "id": "Ivy5J0o_4skX"
      },
      "source": [
        "list_1=[]\n",
        "for i in df_1.columns:\n",
        "  x=df_1[i].value_counts()\n",
        "  if len(x)<=2:\n",
        "    list_1.append(i)\n",
        "  else:\n",
        "    continue"
      ],
      "execution_count": 6,
      "outputs": []
    },
    {
      "cell_type": "code",
      "metadata": {
        "colab": {
          "base_uri": "https://localhost:8080/"
        },
        "id": "NfJfh7lg4uzd",
        "outputId": "b23575c1-5831-44bc-8990-c01626fc0e44"
      },
      "source": [
        "list_1"
      ],
      "execution_count": 7,
      "outputs": [
        {
          "output_type": "execute_result",
          "data": {
            "text/plain": [
              "['Bankrupt?', ' Liability-Assets Flag', ' Net Income Flag']"
            ]
          },
          "metadata": {},
          "execution_count": 7
        }
      ]
    },
    {
      "cell_type": "markdown",
      "metadata": {
        "id": "UQYP5tNB3Sk0"
      },
      "source": [
        "### Liability-Assets Flag"
      ]
    },
    {
      "cell_type": "code",
      "metadata": {
        "colab": {
          "base_uri": "https://localhost:8080/"
        },
        "id": "8CjIBiXZ1TIj",
        "outputId": "019c8849-6176-4fb1-db18-57ed2265cc1b"
      },
      "source": [
        "df_1[' Liability-Assets Flag'].unique()\n",
        "df_1[' Liability-Assets Flag'].value_counts()"
      ],
      "execution_count": 8,
      "outputs": [
        {
          "output_type": "execute_result",
          "data": {
            "text/plain": [
              "0    6811\n",
              "1       8\n",
              "Name:  Liability-Assets Flag, dtype: int64"
            ]
          },
          "metadata": {},
          "execution_count": 8
        }
      ]
    },
    {
      "cell_type": "code",
      "metadata": {
        "colab": {
          "base_uri": "https://localhost:8080/"
        },
        "id": "N5k0hHYf2R7U",
        "outputId": "8c835146-006b-4ff7-b180-57e65f1c6487"
      },
      "source": [
        "df_1[' Liability-Assets Flag'].value_counts()"
      ],
      "execution_count": 9,
      "outputs": [
        {
          "output_type": "execute_result",
          "data": {
            "text/plain": [
              "0    6811\n",
              "1       8\n",
              "Name:  Liability-Assets Flag, dtype: int64"
            ]
          },
          "metadata": {},
          "execution_count": 9
        }
      ]
    },
    {
      "cell_type": "markdown",
      "metadata": {
        "id": "HszwLw_B29Xk"
      },
      "source": [
        "## This feature has a very large class imbalance and we can drop this feature."
      ]
    },
    {
      "cell_type": "markdown",
      "metadata": {
        "id": "0fuOFzr535Aj"
      },
      "source": [
        "## Net Income Flag"
      ]
    },
    {
      "cell_type": "code",
      "metadata": {
        "colab": {
          "base_uri": "https://localhost:8080/"
        },
        "id": "lqnwjGHy3YSG",
        "outputId": "252b44af-67f8-4d8d-87cb-d6a0c6906aed"
      },
      "source": [
        "df_1[' Net Income Flag'].unique()"
      ],
      "execution_count": 10,
      "outputs": [
        {
          "output_type": "execute_result",
          "data": {
            "text/plain": [
              "array([1])"
            ]
          },
          "metadata": {},
          "execution_count": 10
        }
      ]
    },
    {
      "cell_type": "markdown",
      "metadata": {
        "id": "kCfzGiSp3mRN"
      },
      "source": [
        "## This feature has just one unique value and it wont be of any importance."
      ]
    },
    {
      "cell_type": "code",
      "metadata": {
        "id": "fPmpD9jJ3k4N"
      },
      "source": [
        "df_1.drop(columns=[' Net Income Flag', ' Liability-Assets Flag'],inplace=True)"
      ],
      "execution_count": 11,
      "outputs": []
    },
    {
      "cell_type": "code",
      "metadata": {
        "colab": {
          "base_uri": "https://localhost:8080/"
        },
        "id": "Ia9_qlmn3LKM",
        "outputId": "c6008912-31e9-4585-eee9-ed1f72dabda5"
      },
      "source": [
        "df_1.shape"
      ],
      "execution_count": 12,
      "outputs": [
        {
          "output_type": "execute_result",
          "data": {
            "text/plain": [
              "(6819, 94)"
            ]
          },
          "metadata": {},
          "execution_count": 12
        }
      ]
    },
    {
      "cell_type": "code",
      "metadata": {
        "colab": {
          "base_uri": "https://localhost:8080/",
          "height": 406
        },
        "id": "51oNo1gt4-85",
        "outputId": "8147e9c9-261d-4a20-acce-ba2e4345e29d"
      },
      "source": [
        "df_1.describe()"
      ],
      "execution_count": 13,
      "outputs": [
        {
          "output_type": "execute_result",
          "data": {
            "text/html": [
              "<div>\n",
              "<style scoped>\n",
              "    .dataframe tbody tr th:only-of-type {\n",
              "        vertical-align: middle;\n",
              "    }\n",
              "\n",
              "    .dataframe tbody tr th {\n",
              "        vertical-align: top;\n",
              "    }\n",
              "\n",
              "    .dataframe thead th {\n",
              "        text-align: right;\n",
              "    }\n",
              "</style>\n",
              "<table border=\"1\" class=\"dataframe\">\n",
              "  <thead>\n",
              "    <tr style=\"text-align: right;\">\n",
              "      <th></th>\n",
              "      <th>Bankrupt?</th>\n",
              "      <th>ROA(C) before interest and depreciation before interest</th>\n",
              "      <th>ROA(A) before interest and % after tax</th>\n",
              "      <th>ROA(B) before interest and depreciation after tax</th>\n",
              "      <th>Operating Gross Margin</th>\n",
              "      <th>Realized Sales Gross Margin</th>\n",
              "      <th>Operating Profit Rate</th>\n",
              "      <th>Pre-tax net Interest Rate</th>\n",
              "      <th>After-tax net Interest Rate</th>\n",
              "      <th>Non-industry income and expenditure/revenue</th>\n",
              "      <th>Continuous interest rate (after tax)</th>\n",
              "      <th>Operating Expense Rate</th>\n",
              "      <th>Research and development expense rate</th>\n",
              "      <th>Cash flow rate</th>\n",
              "      <th>Interest-bearing debt interest rate</th>\n",
              "      <th>Tax rate (A)</th>\n",
              "      <th>Net Value Per Share (B)</th>\n",
              "      <th>Net Value Per Share (A)</th>\n",
              "      <th>Net Value Per Share (C)</th>\n",
              "      <th>Persistent EPS in the Last Four Seasons</th>\n",
              "      <th>Cash Flow Per Share</th>\n",
              "      <th>Revenue Per Share (Yuan ¥)</th>\n",
              "      <th>Operating Profit Per Share (Yuan ¥)</th>\n",
              "      <th>Per Share Net profit before tax (Yuan ¥)</th>\n",
              "      <th>Realized Sales Gross Profit Growth Rate</th>\n",
              "      <th>Operating Profit Growth Rate</th>\n",
              "      <th>After-tax Net Profit Growth Rate</th>\n",
              "      <th>Regular Net Profit Growth Rate</th>\n",
              "      <th>Continuous Net Profit Growth Rate</th>\n",
              "      <th>Total Asset Growth Rate</th>\n",
              "      <th>Net Value Growth Rate</th>\n",
              "      <th>Total Asset Return Growth Rate Ratio</th>\n",
              "      <th>Cash Reinvestment %</th>\n",
              "      <th>Current Ratio</th>\n",
              "      <th>Quick Ratio</th>\n",
              "      <th>Interest Expense Ratio</th>\n",
              "      <th>Total debt/Total net worth</th>\n",
              "      <th>Debt ratio %</th>\n",
              "      <th>Net worth/Assets</th>\n",
              "      <th>Long-term fund suitability ratio (A)</th>\n",
              "      <th>Borrowing dependency</th>\n",
              "      <th>Contingent liabilities/Net worth</th>\n",
              "      <th>Operating profit/Paid-in capital</th>\n",
              "      <th>Net profit before tax/Paid-in capital</th>\n",
              "      <th>Inventory and accounts receivable/Net value</th>\n",
              "      <th>Total Asset Turnover</th>\n",
              "      <th>Accounts Receivable Turnover</th>\n",
              "      <th>Average Collection Days</th>\n",
              "      <th>Inventory Turnover Rate (times)</th>\n",
              "      <th>Fixed Assets Turnover Frequency</th>\n",
              "      <th>Net Worth Turnover Rate (times)</th>\n",
              "      <th>Revenue per person</th>\n",
              "      <th>Operating profit per person</th>\n",
              "      <th>Allocation rate per person</th>\n",
              "      <th>Working Capital to Total Assets</th>\n",
              "      <th>Quick Assets/Total Assets</th>\n",
              "      <th>Current Assets/Total Assets</th>\n",
              "      <th>Cash/Total Assets</th>\n",
              "      <th>Quick Assets/Current Liability</th>\n",
              "      <th>Cash/Current Liability</th>\n",
              "      <th>Current Liability to Assets</th>\n",
              "      <th>Operating Funds to Liability</th>\n",
              "      <th>Inventory/Working Capital</th>\n",
              "      <th>Inventory/Current Liability</th>\n",
              "      <th>Current Liabilities/Liability</th>\n",
              "      <th>Working Capital/Equity</th>\n",
              "      <th>Current Liabilities/Equity</th>\n",
              "      <th>Long-term Liability to Current Assets</th>\n",
              "      <th>Retained Earnings to Total Assets</th>\n",
              "      <th>Total income/Total expense</th>\n",
              "      <th>Total expense/Assets</th>\n",
              "      <th>Current Asset Turnover Rate</th>\n",
              "      <th>Quick Asset Turnover Rate</th>\n",
              "      <th>Working capitcal Turnover Rate</th>\n",
              "      <th>Cash Turnover Rate</th>\n",
              "      <th>Cash Flow to Sales</th>\n",
              "      <th>Fixed Assets to Assets</th>\n",
              "      <th>Current Liability to Liability</th>\n",
              "      <th>Current Liability to Equity</th>\n",
              "      <th>Equity to Long-term Liability</th>\n",
              "      <th>Cash Flow to Total Assets</th>\n",
              "      <th>Cash Flow to Liability</th>\n",
              "      <th>CFO to Assets</th>\n",
              "      <th>Cash Flow to Equity</th>\n",
              "      <th>Current Liability to Current Assets</th>\n",
              "      <th>Net Income to Total Assets</th>\n",
              "      <th>Total assets to GNP price</th>\n",
              "      <th>No-credit Interval</th>\n",
              "      <th>Gross Profit to Sales</th>\n",
              "      <th>Net Income to Stockholder's Equity</th>\n",
              "      <th>Liability to Equity</th>\n",
              "      <th>Degree of Financial Leverage (DFL)</th>\n",
              "      <th>Interest Coverage Ratio (Interest expense to EBIT)</th>\n",
              "      <th>Equity to Liability</th>\n",
              "    </tr>\n",
              "  </thead>\n",
              "  <tbody>\n",
              "    <tr>\n",
              "      <th>count</th>\n",
              "      <td>6,819.000000</td>\n",
              "      <td>6,819.000000</td>\n",
              "      <td>6,819.000000</td>\n",
              "      <td>6,819.000000</td>\n",
              "      <td>6,819.000000</td>\n",
              "      <td>6,819.000000</td>\n",
              "      <td>6,819.000000</td>\n",
              "      <td>6,819.000000</td>\n",
              "      <td>6,819.000000</td>\n",
              "      <td>6,819.000000</td>\n",
              "      <td>6,819.000000</td>\n",
              "      <td>6,819.000000</td>\n",
              "      <td>6,819.000000</td>\n",
              "      <td>6,819.000000</td>\n",
              "      <td>6,819.000000</td>\n",
              "      <td>6,819.000000</td>\n",
              "      <td>6,819.000000</td>\n",
              "      <td>6,819.000000</td>\n",
              "      <td>6,819.000000</td>\n",
              "      <td>6,819.000000</td>\n",
              "      <td>6,819.000000</td>\n",
              "      <td>6,819.000000</td>\n",
              "      <td>6,819.000000</td>\n",
              "      <td>6,819.000000</td>\n",
              "      <td>6,819.000000</td>\n",
              "      <td>6,819.000000</td>\n",
              "      <td>6,819.000000</td>\n",
              "      <td>6,819.000000</td>\n",
              "      <td>6,819.000000</td>\n",
              "      <td>6,819.000000</td>\n",
              "      <td>6,819.000000</td>\n",
              "      <td>6,819.000000</td>\n",
              "      <td>6,819.000000</td>\n",
              "      <td>6,819.000000</td>\n",
              "      <td>6,819.000000</td>\n",
              "      <td>6,819.000000</td>\n",
              "      <td>6,819.000000</td>\n",
              "      <td>6,819.000000</td>\n",
              "      <td>6,819.000000</td>\n",
              "      <td>6,819.000000</td>\n",
              "      <td>6,819.000000</td>\n",
              "      <td>6,819.000000</td>\n",
              "      <td>6,819.000000</td>\n",
              "      <td>6,819.000000</td>\n",
              "      <td>6,819.000000</td>\n",
              "      <td>6,819.000000</td>\n",
              "      <td>6,819.000000</td>\n",
              "      <td>6,819.000000</td>\n",
              "      <td>6,819.000000</td>\n",
              "      <td>6,819.000000</td>\n",
              "      <td>6,819.000000</td>\n",
              "      <td>6,819.000000</td>\n",
              "      <td>6,819.000000</td>\n",
              "      <td>6,819.000000</td>\n",
              "      <td>6,819.000000</td>\n",
              "      <td>6,819.000000</td>\n",
              "      <td>6,819.000000</td>\n",
              "      <td>6,819.000000</td>\n",
              "      <td>6,819.000000</td>\n",
              "      <td>6,819.000000</td>\n",
              "      <td>6,819.000000</td>\n",
              "      <td>6,819.000000</td>\n",
              "      <td>6,819.000000</td>\n",
              "      <td>6,819.000000</td>\n",
              "      <td>6,819.000000</td>\n",
              "      <td>6,819.000000</td>\n",
              "      <td>6,819.000000</td>\n",
              "      <td>6,819.000000</td>\n",
              "      <td>6,819.000000</td>\n",
              "      <td>6,819.000000</td>\n",
              "      <td>6,819.000000</td>\n",
              "      <td>6,819.000000</td>\n",
              "      <td>6,819.000000</td>\n",
              "      <td>6,819.000000</td>\n",
              "      <td>6,819.000000</td>\n",
              "      <td>6,819.000000</td>\n",
              "      <td>6,819.000000</td>\n",
              "      <td>6,819.000000</td>\n",
              "      <td>6,819.000000</td>\n",
              "      <td>6,819.000000</td>\n",
              "      <td>6,819.000000</td>\n",
              "      <td>6,819.000000</td>\n",
              "      <td>6,819.000000</td>\n",
              "      <td>6,819.000000</td>\n",
              "      <td>6,819.000000</td>\n",
              "      <td>6,819.000000</td>\n",
              "      <td>6,819.000000</td>\n",
              "      <td>6,819.000000</td>\n",
              "      <td>6,819.000000</td>\n",
              "      <td>6,819.000000</td>\n",
              "      <td>6,819.000000</td>\n",
              "      <td>6,819.000000</td>\n",
              "      <td>6,819.000000</td>\n",
              "      <td>6,819.000000</td>\n",
              "    </tr>\n",
              "    <tr>\n",
              "      <th>mean</th>\n",
              "      <td>0.032263</td>\n",
              "      <td>0.505180</td>\n",
              "      <td>0.558625</td>\n",
              "      <td>0.553589</td>\n",
              "      <td>0.607948</td>\n",
              "      <td>0.607929</td>\n",
              "      <td>0.998755</td>\n",
              "      <td>0.797190</td>\n",
              "      <td>0.809084</td>\n",
              "      <td>0.303623</td>\n",
              "      <td>0.781381</td>\n",
              "      <td>1,995,347,312.802792</td>\n",
              "      <td>1,950,427,306.056799</td>\n",
              "      <td>0.467431</td>\n",
              "      <td>16,448,012.905942</td>\n",
              "      <td>0.115001</td>\n",
              "      <td>0.190661</td>\n",
              "      <td>0.190633</td>\n",
              "      <td>0.190672</td>\n",
              "      <td>0.228813</td>\n",
              "      <td>0.323482</td>\n",
              "      <td>1,328,640.602096</td>\n",
              "      <td>0.109091</td>\n",
              "      <td>0.184361</td>\n",
              "      <td>0.022408</td>\n",
              "      <td>0.847980</td>\n",
              "      <td>0.689146</td>\n",
              "      <td>0.689150</td>\n",
              "      <td>0.217639</td>\n",
              "      <td>5,508,096,595.248731</td>\n",
              "      <td>1,566,212.055241</td>\n",
              "      <td>0.264248</td>\n",
              "      <td>0.379677</td>\n",
              "      <td>403,284.954245</td>\n",
              "      <td>8,376,594.819685</td>\n",
              "      <td>0.630991</td>\n",
              "      <td>4,416,336.714259</td>\n",
              "      <td>0.113177</td>\n",
              "      <td>0.886823</td>\n",
              "      <td>0.008783</td>\n",
              "      <td>0.374654</td>\n",
              "      <td>0.005968</td>\n",
              "      <td>0.108977</td>\n",
              "      <td>0.182715</td>\n",
              "      <td>0.402459</td>\n",
              "      <td>0.141606</td>\n",
              "      <td>12,789,705.237554</td>\n",
              "      <td>9,826,220.861192</td>\n",
              "      <td>2,149,106,056.607530</td>\n",
              "      <td>1,008,595,981.817477</td>\n",
              "      <td>0.038595</td>\n",
              "      <td>2,325,854.266358</td>\n",
              "      <td>0.400671</td>\n",
              "      <td>11,255,785.321742</td>\n",
              "      <td>0.814125</td>\n",
              "      <td>0.400132</td>\n",
              "      <td>0.522273</td>\n",
              "      <td>0.124095</td>\n",
              "      <td>3,592,902.196830</td>\n",
              "      <td>37,159,994.147133</td>\n",
              "      <td>0.090673</td>\n",
              "      <td>0.353828</td>\n",
              "      <td>0.277395</td>\n",
              "      <td>55,806,804.525780</td>\n",
              "      <td>0.761599</td>\n",
              "      <td>0.735817</td>\n",
              "      <td>0.331410</td>\n",
              "      <td>54,160,038.135894</td>\n",
              "      <td>0.934733</td>\n",
              "      <td>0.002549</td>\n",
              "      <td>0.029184</td>\n",
              "      <td>1,195,855,763.308841</td>\n",
              "      <td>2,163,735,272.034319</td>\n",
              "      <td>0.594006</td>\n",
              "      <td>2,471,976,967.444247</td>\n",
              "      <td>0.671531</td>\n",
              "      <td>1,220,120.501590</td>\n",
              "      <td>0.761599</td>\n",
              "      <td>0.331410</td>\n",
              "      <td>0.115645</td>\n",
              "      <td>0.649731</td>\n",
              "      <td>0.461849</td>\n",
              "      <td>0.593415</td>\n",
              "      <td>0.315582</td>\n",
              "      <td>0.031506</td>\n",
              "      <td>0.807760</td>\n",
              "      <td>18,629,417.811836</td>\n",
              "      <td>0.623915</td>\n",
              "      <td>0.607946</td>\n",
              "      <td>0.840402</td>\n",
              "      <td>0.280365</td>\n",
              "      <td>0.027541</td>\n",
              "      <td>0.565358</td>\n",
              "      <td>0.047578</td>\n",
              "    </tr>\n",
              "    <tr>\n",
              "      <th>std</th>\n",
              "      <td>0.176710</td>\n",
              "      <td>0.060686</td>\n",
              "      <td>0.065620</td>\n",
              "      <td>0.061595</td>\n",
              "      <td>0.016934</td>\n",
              "      <td>0.016916</td>\n",
              "      <td>0.013010</td>\n",
              "      <td>0.012869</td>\n",
              "      <td>0.013601</td>\n",
              "      <td>0.011163</td>\n",
              "      <td>0.012679</td>\n",
              "      <td>3,237,683,890.522487</td>\n",
              "      <td>2,598,291,553.998342</td>\n",
              "      <td>0.017036</td>\n",
              "      <td>108,275,033.532823</td>\n",
              "      <td>0.138667</td>\n",
              "      <td>0.033390</td>\n",
              "      <td>0.033474</td>\n",
              "      <td>0.033480</td>\n",
              "      <td>0.033263</td>\n",
              "      <td>0.017611</td>\n",
              "      <td>51,707,089.767907</td>\n",
              "      <td>0.027942</td>\n",
              "      <td>0.033180</td>\n",
              "      <td>0.012079</td>\n",
              "      <td>0.010752</td>\n",
              "      <td>0.013853</td>\n",
              "      <td>0.013910</td>\n",
              "      <td>0.010063</td>\n",
              "      <td>2,897,717,771.169734</td>\n",
              "      <td>114,159,389.518336</td>\n",
              "      <td>0.009634</td>\n",
              "      <td>0.020737</td>\n",
              "      <td>33,302,155.825480</td>\n",
              "      <td>244,684,748.446872</td>\n",
              "      <td>0.011238</td>\n",
              "      <td>168,406,905.281511</td>\n",
              "      <td>0.053920</td>\n",
              "      <td>0.053920</td>\n",
              "      <td>0.028153</td>\n",
              "      <td>0.016286</td>\n",
              "      <td>0.012188</td>\n",
              "      <td>0.027782</td>\n",
              "      <td>0.030785</td>\n",
              "      <td>0.013324</td>\n",
              "      <td>0.101145</td>\n",
              "      <td>278,259,836.984053</td>\n",
              "      <td>256,358,895.705332</td>\n",
              "      <td>3,247,967,014.047904</td>\n",
              "      <td>2,477,557,316.920172</td>\n",
              "      <td>0.036680</td>\n",
              "      <td>136,632,654.389936</td>\n",
              "      <td>0.032720</td>\n",
              "      <td>294,506,294.116772</td>\n",
              "      <td>0.059054</td>\n",
              "      <td>0.201998</td>\n",
              "      <td>0.218112</td>\n",
              "      <td>0.139251</td>\n",
              "      <td>171,620,908.606822</td>\n",
              "      <td>510,350,903.162733</td>\n",
              "      <td>0.050290</td>\n",
              "      <td>0.035147</td>\n",
              "      <td>0.010469</td>\n",
              "      <td>582,051,554.619420</td>\n",
              "      <td>0.206677</td>\n",
              "      <td>0.011678</td>\n",
              "      <td>0.013488</td>\n",
              "      <td>570,270,621.959227</td>\n",
              "      <td>0.025564</td>\n",
              "      <td>0.012093</td>\n",
              "      <td>0.027149</td>\n",
              "      <td>2,821,161,238.262457</td>\n",
              "      <td>3,374,944,402.166119</td>\n",
              "      <td>0.008959</td>\n",
              "      <td>2,938,623,226.678810</td>\n",
              "      <td>0.009341</td>\n",
              "      <td>100,754,158.713168</td>\n",
              "      <td>0.206677</td>\n",
              "      <td>0.013488</td>\n",
              "      <td>0.019529</td>\n",
              "      <td>0.047372</td>\n",
              "      <td>0.029943</td>\n",
              "      <td>0.058561</td>\n",
              "      <td>0.012961</td>\n",
              "      <td>0.030845</td>\n",
              "      <td>0.040332</td>\n",
              "      <td>376,450,059.745829</td>\n",
              "      <td>0.012290</td>\n",
              "      <td>0.016934</td>\n",
              "      <td>0.014523</td>\n",
              "      <td>0.014463</td>\n",
              "      <td>0.015668</td>\n",
              "      <td>0.013214</td>\n",
              "      <td>0.050014</td>\n",
              "    </tr>\n",
              "    <tr>\n",
              "      <th>min</th>\n",
              "      <td>0.000000</td>\n",
              "      <td>0.000000</td>\n",
              "      <td>0.000000</td>\n",
              "      <td>0.000000</td>\n",
              "      <td>0.000000</td>\n",
              "      <td>0.000000</td>\n",
              "      <td>0.000000</td>\n",
              "      <td>0.000000</td>\n",
              "      <td>0.000000</td>\n",
              "      <td>0.000000</td>\n",
              "      <td>0.000000</td>\n",
              "      <td>0.000000</td>\n",
              "      <td>0.000000</td>\n",
              "      <td>0.000000</td>\n",
              "      <td>0.000000</td>\n",
              "      <td>0.000000</td>\n",
              "      <td>0.000000</td>\n",
              "      <td>0.000000</td>\n",
              "      <td>0.000000</td>\n",
              "      <td>0.000000</td>\n",
              "      <td>0.000000</td>\n",
              "      <td>0.000000</td>\n",
              "      <td>0.000000</td>\n",
              "      <td>0.000000</td>\n",
              "      <td>0.000000</td>\n",
              "      <td>0.000000</td>\n",
              "      <td>0.000000</td>\n",
              "      <td>0.000000</td>\n",
              "      <td>0.000000</td>\n",
              "      <td>0.000000</td>\n",
              "      <td>0.000000</td>\n",
              "      <td>0.000000</td>\n",
              "      <td>0.000000</td>\n",
              "      <td>0.000000</td>\n",
              "      <td>0.000000</td>\n",
              "      <td>0.000000</td>\n",
              "      <td>0.000000</td>\n",
              "      <td>0.000000</td>\n",
              "      <td>0.000000</td>\n",
              "      <td>0.000000</td>\n",
              "      <td>0.000000</td>\n",
              "      <td>0.000000</td>\n",
              "      <td>0.000000</td>\n",
              "      <td>0.000000</td>\n",
              "      <td>0.000000</td>\n",
              "      <td>0.000000</td>\n",
              "      <td>0.000000</td>\n",
              "      <td>0.000000</td>\n",
              "      <td>0.000000</td>\n",
              "      <td>0.000000</td>\n",
              "      <td>0.000000</td>\n",
              "      <td>0.000000</td>\n",
              "      <td>0.000000</td>\n",
              "      <td>0.000000</td>\n",
              "      <td>0.000000</td>\n",
              "      <td>0.000000</td>\n",
              "      <td>0.000000</td>\n",
              "      <td>0.000000</td>\n",
              "      <td>0.000000</td>\n",
              "      <td>0.000000</td>\n",
              "      <td>0.000000</td>\n",
              "      <td>0.000000</td>\n",
              "      <td>0.000000</td>\n",
              "      <td>0.000000</td>\n",
              "      <td>0.000000</td>\n",
              "      <td>0.000000</td>\n",
              "      <td>0.000000</td>\n",
              "      <td>0.000000</td>\n",
              "      <td>0.000000</td>\n",
              "      <td>0.000000</td>\n",
              "      <td>0.000000</td>\n",
              "      <td>0.000000</td>\n",
              "      <td>0.000000</td>\n",
              "      <td>0.000000</td>\n",
              "      <td>0.000000</td>\n",
              "      <td>0.000000</td>\n",
              "      <td>0.000000</td>\n",
              "      <td>0.000000</td>\n",
              "      <td>0.000000</td>\n",
              "      <td>0.000000</td>\n",
              "      <td>0.000000</td>\n",
              "      <td>0.000000</td>\n",
              "      <td>0.000000</td>\n",
              "      <td>0.000000</td>\n",
              "      <td>0.000000</td>\n",
              "      <td>0.000000</td>\n",
              "      <td>0.000000</td>\n",
              "      <td>0.000000</td>\n",
              "      <td>0.000000</td>\n",
              "      <td>0.000000</td>\n",
              "      <td>0.000000</td>\n",
              "      <td>0.000000</td>\n",
              "      <td>0.000000</td>\n",
              "      <td>0.000000</td>\n",
              "    </tr>\n",
              "    <tr>\n",
              "      <th>25%</th>\n",
              "      <td>0.000000</td>\n",
              "      <td>0.476527</td>\n",
              "      <td>0.535543</td>\n",
              "      <td>0.527277</td>\n",
              "      <td>0.600445</td>\n",
              "      <td>0.600434</td>\n",
              "      <td>0.998969</td>\n",
              "      <td>0.797386</td>\n",
              "      <td>0.809312</td>\n",
              "      <td>0.303466</td>\n",
              "      <td>0.781567</td>\n",
              "      <td>0.000157</td>\n",
              "      <td>0.000128</td>\n",
              "      <td>0.461558</td>\n",
              "      <td>0.000203</td>\n",
              "      <td>0.000000</td>\n",
              "      <td>0.173613</td>\n",
              "      <td>0.173613</td>\n",
              "      <td>0.173676</td>\n",
              "      <td>0.214711</td>\n",
              "      <td>0.317748</td>\n",
              "      <td>0.015631</td>\n",
              "      <td>0.096083</td>\n",
              "      <td>0.170370</td>\n",
              "      <td>0.022065</td>\n",
              "      <td>0.847984</td>\n",
              "      <td>0.689270</td>\n",
              "      <td>0.689270</td>\n",
              "      <td>0.217580</td>\n",
              "      <td>4,860,000,000.000000</td>\n",
              "      <td>0.000441</td>\n",
              "      <td>0.263759</td>\n",
              "      <td>0.374749</td>\n",
              "      <td>0.007555</td>\n",
              "      <td>0.004726</td>\n",
              "      <td>0.630612</td>\n",
              "      <td>0.003007</td>\n",
              "      <td>0.072891</td>\n",
              "      <td>0.851196</td>\n",
              "      <td>0.005244</td>\n",
              "      <td>0.370168</td>\n",
              "      <td>0.005366</td>\n",
              "      <td>0.096105</td>\n",
              "      <td>0.169376</td>\n",
              "      <td>0.397403</td>\n",
              "      <td>0.076462</td>\n",
              "      <td>0.000710</td>\n",
              "      <td>0.004387</td>\n",
              "      <td>0.000173</td>\n",
              "      <td>0.000233</td>\n",
              "      <td>0.021774</td>\n",
              "      <td>0.010433</td>\n",
              "      <td>0.392438</td>\n",
              "      <td>0.004121</td>\n",
              "      <td>0.774309</td>\n",
              "      <td>0.241973</td>\n",
              "      <td>0.352845</td>\n",
              "      <td>0.033543</td>\n",
              "      <td>0.005240</td>\n",
              "      <td>0.001973</td>\n",
              "      <td>0.053301</td>\n",
              "      <td>0.341023</td>\n",
              "      <td>0.277034</td>\n",
              "      <td>0.003163</td>\n",
              "      <td>0.626981</td>\n",
              "      <td>0.733612</td>\n",
              "      <td>0.328096</td>\n",
              "      <td>0.000000</td>\n",
              "      <td>0.931097</td>\n",
              "      <td>0.002236</td>\n",
              "      <td>0.014567</td>\n",
              "      <td>0.000146</td>\n",
              "      <td>0.000142</td>\n",
              "      <td>0.593934</td>\n",
              "      <td>0.000274</td>\n",
              "      <td>0.671565</td>\n",
              "      <td>0.085360</td>\n",
              "      <td>0.626981</td>\n",
              "      <td>0.328096</td>\n",
              "      <td>0.110933</td>\n",
              "      <td>0.633265</td>\n",
              "      <td>0.457116</td>\n",
              "      <td>0.565987</td>\n",
              "      <td>0.312995</td>\n",
              "      <td>0.018034</td>\n",
              "      <td>0.796750</td>\n",
              "      <td>0.000904</td>\n",
              "      <td>0.623636</td>\n",
              "      <td>0.600443</td>\n",
              "      <td>0.840115</td>\n",
              "      <td>0.276944</td>\n",
              "      <td>0.026791</td>\n",
              "      <td>0.565158</td>\n",
              "      <td>0.024477</td>\n",
              "    </tr>\n",
              "    <tr>\n",
              "      <th>50%</th>\n",
              "      <td>0.000000</td>\n",
              "      <td>0.502706</td>\n",
              "      <td>0.559802</td>\n",
              "      <td>0.552278</td>\n",
              "      <td>0.605997</td>\n",
              "      <td>0.605976</td>\n",
              "      <td>0.999022</td>\n",
              "      <td>0.797464</td>\n",
              "      <td>0.809375</td>\n",
              "      <td>0.303525</td>\n",
              "      <td>0.781635</td>\n",
              "      <td>0.000278</td>\n",
              "      <td>509,000,000.000000</td>\n",
              "      <td>0.465080</td>\n",
              "      <td>0.000321</td>\n",
              "      <td>0.073489</td>\n",
              "      <td>0.184400</td>\n",
              "      <td>0.184400</td>\n",
              "      <td>0.184400</td>\n",
              "      <td>0.224544</td>\n",
              "      <td>0.322487</td>\n",
              "      <td>0.027376</td>\n",
              "      <td>0.104226</td>\n",
              "      <td>0.179709</td>\n",
              "      <td>0.022102</td>\n",
              "      <td>0.848044</td>\n",
              "      <td>0.689439</td>\n",
              "      <td>0.689439</td>\n",
              "      <td>0.217598</td>\n",
              "      <td>6,400,000,000.000000</td>\n",
              "      <td>0.000462</td>\n",
              "      <td>0.264050</td>\n",
              "      <td>0.380425</td>\n",
              "      <td>0.010587</td>\n",
              "      <td>0.007412</td>\n",
              "      <td>0.630698</td>\n",
              "      <td>0.005546</td>\n",
              "      <td>0.111407</td>\n",
              "      <td>0.888593</td>\n",
              "      <td>0.005665</td>\n",
              "      <td>0.372624</td>\n",
              "      <td>0.005366</td>\n",
              "      <td>0.104133</td>\n",
              "      <td>0.178456</td>\n",
              "      <td>0.400131</td>\n",
              "      <td>0.118441</td>\n",
              "      <td>0.000968</td>\n",
              "      <td>0.006573</td>\n",
              "      <td>0.000765</td>\n",
              "      <td>0.000593</td>\n",
              "      <td>0.029516</td>\n",
              "      <td>0.018616</td>\n",
              "      <td>0.395898</td>\n",
              "      <td>0.007844</td>\n",
              "      <td>0.810275</td>\n",
              "      <td>0.386451</td>\n",
              "      <td>0.514830</td>\n",
              "      <td>0.074887</td>\n",
              "      <td>0.007909</td>\n",
              "      <td>0.004904</td>\n",
              "      <td>0.082705</td>\n",
              "      <td>0.348597</td>\n",
              "      <td>0.277178</td>\n",
              "      <td>0.006497</td>\n",
              "      <td>0.806881</td>\n",
              "      <td>0.736013</td>\n",
              "      <td>0.329685</td>\n",
              "      <td>0.001975</td>\n",
              "      <td>0.937672</td>\n",
              "      <td>0.002336</td>\n",
              "      <td>0.022674</td>\n",
              "      <td>0.000199</td>\n",
              "      <td>0.000225</td>\n",
              "      <td>0.593963</td>\n",
              "      <td>1,080,000,000.000000</td>\n",
              "      <td>0.671574</td>\n",
              "      <td>0.196881</td>\n",
              "      <td>0.806881</td>\n",
              "      <td>0.329685</td>\n",
              "      <td>0.112340</td>\n",
              "      <td>0.645366</td>\n",
              "      <td>0.459750</td>\n",
              "      <td>0.593266</td>\n",
              "      <td>0.314953</td>\n",
              "      <td>0.027597</td>\n",
              "      <td>0.810619</td>\n",
              "      <td>0.002085</td>\n",
              "      <td>0.623879</td>\n",
              "      <td>0.605998</td>\n",
              "      <td>0.841179</td>\n",
              "      <td>0.278778</td>\n",
              "      <td>0.026808</td>\n",
              "      <td>0.565252</td>\n",
              "      <td>0.033798</td>\n",
              "    </tr>\n",
              "    <tr>\n",
              "      <th>75%</th>\n",
              "      <td>0.000000</td>\n",
              "      <td>0.535563</td>\n",
              "      <td>0.589157</td>\n",
              "      <td>0.584105</td>\n",
              "      <td>0.613914</td>\n",
              "      <td>0.613842</td>\n",
              "      <td>0.999095</td>\n",
              "      <td>0.797579</td>\n",
              "      <td>0.809469</td>\n",
              "      <td>0.303585</td>\n",
              "      <td>0.781735</td>\n",
              "      <td>4,145,000,000.000000</td>\n",
              "      <td>3,450,000,000.000000</td>\n",
              "      <td>0.471004</td>\n",
              "      <td>0.000533</td>\n",
              "      <td>0.205841</td>\n",
              "      <td>0.199570</td>\n",
              "      <td>0.199570</td>\n",
              "      <td>0.199612</td>\n",
              "      <td>0.238820</td>\n",
              "      <td>0.328623</td>\n",
              "      <td>0.046357</td>\n",
              "      <td>0.116155</td>\n",
              "      <td>0.193493</td>\n",
              "      <td>0.022153</td>\n",
              "      <td>0.848123</td>\n",
              "      <td>0.689647</td>\n",
              "      <td>0.689647</td>\n",
              "      <td>0.217622</td>\n",
              "      <td>7,390,000,000.000000</td>\n",
              "      <td>0.000499</td>\n",
              "      <td>0.264388</td>\n",
              "      <td>0.386731</td>\n",
              "      <td>0.016270</td>\n",
              "      <td>0.012249</td>\n",
              "      <td>0.631125</td>\n",
              "      <td>0.009273</td>\n",
              "      <td>0.148804</td>\n",
              "      <td>0.927109</td>\n",
              "      <td>0.006847</td>\n",
              "      <td>0.376271</td>\n",
              "      <td>0.005764</td>\n",
              "      <td>0.115927</td>\n",
              "      <td>0.191607</td>\n",
              "      <td>0.404551</td>\n",
              "      <td>0.176912</td>\n",
              "      <td>0.001455</td>\n",
              "      <td>0.008973</td>\n",
              "      <td>4,620,000,000.000000</td>\n",
              "      <td>0.003652</td>\n",
              "      <td>0.042903</td>\n",
              "      <td>0.035855</td>\n",
              "      <td>0.401851</td>\n",
              "      <td>0.015020</td>\n",
              "      <td>0.850383</td>\n",
              "      <td>0.540594</td>\n",
              "      <td>0.689051</td>\n",
              "      <td>0.161073</td>\n",
              "      <td>0.012951</td>\n",
              "      <td>0.012806</td>\n",
              "      <td>0.119523</td>\n",
              "      <td>0.360915</td>\n",
              "      <td>0.277429</td>\n",
              "      <td>0.011147</td>\n",
              "      <td>0.942027</td>\n",
              "      <td>0.738560</td>\n",
              "      <td>0.332322</td>\n",
              "      <td>0.009006</td>\n",
              "      <td>0.944811</td>\n",
              "      <td>0.002492</td>\n",
              "      <td>0.035930</td>\n",
              "      <td>0.000453</td>\n",
              "      <td>4,900,000,000.000000</td>\n",
              "      <td>0.594002</td>\n",
              "      <td>4,510,000,000.000000</td>\n",
              "      <td>0.671587</td>\n",
              "      <td>0.372200</td>\n",
              "      <td>0.942027</td>\n",
              "      <td>0.332322</td>\n",
              "      <td>0.117106</td>\n",
              "      <td>0.663062</td>\n",
              "      <td>0.464236</td>\n",
              "      <td>0.624769</td>\n",
              "      <td>0.317707</td>\n",
              "      <td>0.038375</td>\n",
              "      <td>0.826455</td>\n",
              "      <td>0.005270</td>\n",
              "      <td>0.624168</td>\n",
              "      <td>0.613913</td>\n",
              "      <td>0.842357</td>\n",
              "      <td>0.281449</td>\n",
              "      <td>0.026913</td>\n",
              "      <td>0.565725</td>\n",
              "      <td>0.052838</td>\n",
              "    </tr>\n",
              "    <tr>\n",
              "      <th>max</th>\n",
              "      <td>1.000000</td>\n",
              "      <td>1.000000</td>\n",
              "      <td>1.000000</td>\n",
              "      <td>1.000000</td>\n",
              "      <td>1.000000</td>\n",
              "      <td>1.000000</td>\n",
              "      <td>1.000000</td>\n",
              "      <td>1.000000</td>\n",
              "      <td>1.000000</td>\n",
              "      <td>1.000000</td>\n",
              "      <td>1.000000</td>\n",
              "      <td>9,990,000,000.000000</td>\n",
              "      <td>9,980,000,000.000000</td>\n",
              "      <td>1.000000</td>\n",
              "      <td>990,000,000.000000</td>\n",
              "      <td>1.000000</td>\n",
              "      <td>1.000000</td>\n",
              "      <td>1.000000</td>\n",
              "      <td>1.000000</td>\n",
              "      <td>1.000000</td>\n",
              "      <td>1.000000</td>\n",
              "      <td>3,020,000,000.000000</td>\n",
              "      <td>1.000000</td>\n",
              "      <td>1.000000</td>\n",
              "      <td>1.000000</td>\n",
              "      <td>1.000000</td>\n",
              "      <td>1.000000</td>\n",
              "      <td>1.000000</td>\n",
              "      <td>1.000000</td>\n",
              "      <td>9,990,000,000.000000</td>\n",
              "      <td>9,330,000,000.000000</td>\n",
              "      <td>1.000000</td>\n",
              "      <td>1.000000</td>\n",
              "      <td>2,750,000,000.000000</td>\n",
              "      <td>9,230,000,000.000000</td>\n",
              "      <td>1.000000</td>\n",
              "      <td>9,940,000,000.000000</td>\n",
              "      <td>1.000000</td>\n",
              "      <td>1.000000</td>\n",
              "      <td>1.000000</td>\n",
              "      <td>1.000000</td>\n",
              "      <td>1.000000</td>\n",
              "      <td>1.000000</td>\n",
              "      <td>1.000000</td>\n",
              "      <td>1.000000</td>\n",
              "      <td>1.000000</td>\n",
              "      <td>9,740,000,000.000000</td>\n",
              "      <td>9,730,000,000.000000</td>\n",
              "      <td>9,990,000,000.000000</td>\n",
              "      <td>9,990,000,000.000000</td>\n",
              "      <td>1.000000</td>\n",
              "      <td>8,810,000,000.000000</td>\n",
              "      <td>1.000000</td>\n",
              "      <td>9,570,000,000.000000</td>\n",
              "      <td>1.000000</td>\n",
              "      <td>1.000000</td>\n",
              "      <td>1.000000</td>\n",
              "      <td>1.000000</td>\n",
              "      <td>8,820,000,000.000000</td>\n",
              "      <td>9,650,000,000.000000</td>\n",
              "      <td>1.000000</td>\n",
              "      <td>1.000000</td>\n",
              "      <td>1.000000</td>\n",
              "      <td>9,910,000,000.000000</td>\n",
              "      <td>1.000000</td>\n",
              "      <td>1.000000</td>\n",
              "      <td>1.000000</td>\n",
              "      <td>9,540,000,000.000000</td>\n",
              "      <td>1.000000</td>\n",
              "      <td>1.000000</td>\n",
              "      <td>1.000000</td>\n",
              "      <td>10,000,000,000.000000</td>\n",
              "      <td>10,000,000,000.000000</td>\n",
              "      <td>1.000000</td>\n",
              "      <td>10,000,000,000.000000</td>\n",
              "      <td>1.000000</td>\n",
              "      <td>8,320,000,000.000000</td>\n",
              "      <td>1.000000</td>\n",
              "      <td>1.000000</td>\n",
              "      <td>1.000000</td>\n",
              "      <td>1.000000</td>\n",
              "      <td>1.000000</td>\n",
              "      <td>1.000000</td>\n",
              "      <td>1.000000</td>\n",
              "      <td>1.000000</td>\n",
              "      <td>1.000000</td>\n",
              "      <td>9,820,000,000.000000</td>\n",
              "      <td>1.000000</td>\n",
              "      <td>1.000000</td>\n",
              "      <td>1.000000</td>\n",
              "      <td>1.000000</td>\n",
              "      <td>1.000000</td>\n",
              "      <td>1.000000</td>\n",
              "      <td>1.000000</td>\n",
              "    </tr>\n",
              "  </tbody>\n",
              "</table>\n",
              "</div>"
            ],
            "text/plain": [
              "         Bankrupt?   ROA(C) before interest and depreciation before interest  \\\n",
              "count 6,819.000000                                       6,819.000000          \n",
              "mean      0.032263                                           0.505180          \n",
              "std       0.176710                                           0.060686          \n",
              "min       0.000000                                           0.000000          \n",
              "25%       0.000000                                           0.476527          \n",
              "50%       0.000000                                           0.502706          \n",
              "75%       0.000000                                           0.535563          \n",
              "max       1.000000                                           1.000000          \n",
              "\n",
              "        ROA(A) before interest and % after tax  \\\n",
              "count                             6,819.000000   \n",
              "mean                                  0.558625   \n",
              "std                                   0.065620   \n",
              "min                                   0.000000   \n",
              "25%                                   0.535543   \n",
              "50%                                   0.559802   \n",
              "75%                                   0.589157   \n",
              "max                                   1.000000   \n",
              "\n",
              "        ROA(B) before interest and depreciation after tax  \\\n",
              "count                                       6,819.000000    \n",
              "mean                                            0.553589    \n",
              "std                                             0.061595    \n",
              "min                                             0.000000    \n",
              "25%                                             0.527277    \n",
              "50%                                             0.552278    \n",
              "75%                                             0.584105    \n",
              "max                                             1.000000    \n",
              "\n",
              "        Operating Gross Margin   Realized Sales Gross Margin  \\\n",
              "count             6,819.000000                  6,819.000000   \n",
              "mean                  0.607948                      0.607929   \n",
              "std                   0.016934                      0.016916   \n",
              "min                   0.000000                      0.000000   \n",
              "25%                   0.600445                      0.600434   \n",
              "50%                   0.605997                      0.605976   \n",
              "75%                   0.613914                      0.613842   \n",
              "max                   1.000000                      1.000000   \n",
              "\n",
              "        Operating Profit Rate   Pre-tax net Interest Rate  \\\n",
              "count            6,819.000000                6,819.000000   \n",
              "mean                 0.998755                    0.797190   \n",
              "std                  0.013010                    0.012869   \n",
              "min                  0.000000                    0.000000   \n",
              "25%                  0.998969                    0.797386   \n",
              "50%                  0.999022                    0.797464   \n",
              "75%                  0.999095                    0.797579   \n",
              "max                  1.000000                    1.000000   \n",
              "\n",
              "        After-tax net Interest Rate  \\\n",
              "count                  6,819.000000   \n",
              "mean                       0.809084   \n",
              "std                        0.013601   \n",
              "min                        0.000000   \n",
              "25%                        0.809312   \n",
              "50%                        0.809375   \n",
              "75%                        0.809469   \n",
              "max                        1.000000   \n",
              "\n",
              "        Non-industry income and expenditure/revenue  \\\n",
              "count                                  6,819.000000   \n",
              "mean                                       0.303623   \n",
              "std                                        0.011163   \n",
              "min                                        0.000000   \n",
              "25%                                        0.303466   \n",
              "50%                                        0.303525   \n",
              "75%                                        0.303585   \n",
              "max                                        1.000000   \n",
              "\n",
              "        Continuous interest rate (after tax)   Operating Expense Rate  \\\n",
              "count                           6,819.000000             6,819.000000   \n",
              "mean                                0.781381     1,995,347,312.802792   \n",
              "std                                 0.012679     3,237,683,890.522487   \n",
              "min                                 0.000000                 0.000000   \n",
              "25%                                 0.781567                 0.000157   \n",
              "50%                                 0.781635                 0.000278   \n",
              "75%                                 0.781735     4,145,000,000.000000   \n",
              "max                                 1.000000     9,990,000,000.000000   \n",
              "\n",
              "        Research and development expense rate   Cash flow rate  \\\n",
              "count                            6,819.000000     6,819.000000   \n",
              "mean                     1,950,427,306.056799         0.467431   \n",
              "std                      2,598,291,553.998342         0.017036   \n",
              "min                                  0.000000         0.000000   \n",
              "25%                                  0.000128         0.461558   \n",
              "50%                        509,000,000.000000         0.465080   \n",
              "75%                      3,450,000,000.000000         0.471004   \n",
              "max                      9,980,000,000.000000         1.000000   \n",
              "\n",
              "        Interest-bearing debt interest rate   Tax rate (A)  \\\n",
              "count                          6,819.000000   6,819.000000   \n",
              "mean                      16,448,012.905942       0.115001   \n",
              "std                      108,275,033.532823       0.138667   \n",
              "min                                0.000000       0.000000   \n",
              "25%                                0.000203       0.000000   \n",
              "50%                                0.000321       0.073489   \n",
              "75%                                0.000533       0.205841   \n",
              "max                      990,000,000.000000       1.000000   \n",
              "\n",
              "        Net Value Per Share (B)   Net Value Per Share (A)  \\\n",
              "count              6,819.000000              6,819.000000   \n",
              "mean                   0.190661                  0.190633   \n",
              "std                    0.033390                  0.033474   \n",
              "min                    0.000000                  0.000000   \n",
              "25%                    0.173613                  0.173613   \n",
              "50%                    0.184400                  0.184400   \n",
              "75%                    0.199570                  0.199570   \n",
              "max                    1.000000                  1.000000   \n",
              "\n",
              "        Net Value Per Share (C)   Persistent EPS in the Last Four Seasons  \\\n",
              "count              6,819.000000                              6,819.000000   \n",
              "mean                   0.190672                                  0.228813   \n",
              "std                    0.033480                                  0.033263   \n",
              "min                    0.000000                                  0.000000   \n",
              "25%                    0.173676                                  0.214711   \n",
              "50%                    0.184400                                  0.224544   \n",
              "75%                    0.199612                                  0.238820   \n",
              "max                    1.000000                                  1.000000   \n",
              "\n",
              "        Cash Flow Per Share   Revenue Per Share (Yuan ¥)  \\\n",
              "count          6,819.000000                 6,819.000000   \n",
              "mean               0.323482             1,328,640.602096   \n",
              "std                0.017611            51,707,089.767907   \n",
              "min                0.000000                     0.000000   \n",
              "25%                0.317748                     0.015631   \n",
              "50%                0.322487                     0.027376   \n",
              "75%                0.328623                     0.046357   \n",
              "max                1.000000         3,020,000,000.000000   \n",
              "\n",
              "        Operating Profit Per Share (Yuan ¥)  \\\n",
              "count                          6,819.000000   \n",
              "mean                               0.109091   \n",
              "std                                0.027942   \n",
              "min                                0.000000   \n",
              "25%                                0.096083   \n",
              "50%                                0.104226   \n",
              "75%                                0.116155   \n",
              "max                                1.000000   \n",
              "\n",
              "        Per Share Net profit before tax (Yuan ¥)  \\\n",
              "count                               6,819.000000   \n",
              "mean                                    0.184361   \n",
              "std                                     0.033180   \n",
              "min                                     0.000000   \n",
              "25%                                     0.170370   \n",
              "50%                                     0.179709   \n",
              "75%                                     0.193493   \n",
              "max                                     1.000000   \n",
              "\n",
              "        Realized Sales Gross Profit Growth Rate  \\\n",
              "count                              6,819.000000   \n",
              "mean                                   0.022408   \n",
              "std                                    0.012079   \n",
              "min                                    0.000000   \n",
              "25%                                    0.022065   \n",
              "50%                                    0.022102   \n",
              "75%                                    0.022153   \n",
              "max                                    1.000000   \n",
              "\n",
              "        Operating Profit Growth Rate   After-tax Net Profit Growth Rate  \\\n",
              "count                   6,819.000000                       6,819.000000   \n",
              "mean                        0.847980                           0.689146   \n",
              "std                         0.010752                           0.013853   \n",
              "min                         0.000000                           0.000000   \n",
              "25%                         0.847984                           0.689270   \n",
              "50%                         0.848044                           0.689439   \n",
              "75%                         0.848123                           0.689647   \n",
              "max                         1.000000                           1.000000   \n",
              "\n",
              "        Regular Net Profit Growth Rate   Continuous Net Profit Growth Rate  \\\n",
              "count                     6,819.000000                        6,819.000000   \n",
              "mean                          0.689150                            0.217639   \n",
              "std                           0.013910                            0.010063   \n",
              "min                           0.000000                            0.000000   \n",
              "25%                           0.689270                            0.217580   \n",
              "50%                           0.689439                            0.217598   \n",
              "75%                           0.689647                            0.217622   \n",
              "max                           1.000000                            1.000000   \n",
              "\n",
              "        Total Asset Growth Rate   Net Value Growth Rate  \\\n",
              "count              6,819.000000            6,819.000000   \n",
              "mean       5,508,096,595.248731        1,566,212.055241   \n",
              "std        2,897,717,771.169734      114,159,389.518336   \n",
              "min                    0.000000                0.000000   \n",
              "25%        4,860,000,000.000000                0.000441   \n",
              "50%        6,400,000,000.000000                0.000462   \n",
              "75%        7,390,000,000.000000                0.000499   \n",
              "max        9,990,000,000.000000    9,330,000,000.000000   \n",
              "\n",
              "        Total Asset Return Growth Rate Ratio   Cash Reinvestment %  \\\n",
              "count                           6,819.000000          6,819.000000   \n",
              "mean                                0.264248              0.379677   \n",
              "std                                 0.009634              0.020737   \n",
              "min                                 0.000000              0.000000   \n",
              "25%                                 0.263759              0.374749   \n",
              "50%                                 0.264050              0.380425   \n",
              "75%                                 0.264388              0.386731   \n",
              "max                                 1.000000              1.000000   \n",
              "\n",
              "             Current Ratio          Quick Ratio   Interest Expense Ratio  \\\n",
              "count         6,819.000000         6,819.000000             6,819.000000   \n",
              "mean        403,284.954245     8,376,594.819685                 0.630991   \n",
              "std      33,302,155.825480   244,684,748.446872                 0.011238   \n",
              "min               0.000000             0.000000                 0.000000   \n",
              "25%               0.007555             0.004726                 0.630612   \n",
              "50%               0.010587             0.007412                 0.630698   \n",
              "75%               0.016270             0.012249                 0.631125   \n",
              "max   2,750,000,000.000000 9,230,000,000.000000                 1.000000   \n",
              "\n",
              "        Total debt/Total net worth   Debt ratio %   Net worth/Assets  \\\n",
              "count                 6,819.000000   6,819.000000       6,819.000000   \n",
              "mean              4,416,336.714259       0.113177           0.886823   \n",
              "std             168,406,905.281511       0.053920           0.053920   \n",
              "min                       0.000000       0.000000           0.000000   \n",
              "25%                       0.003007       0.072891           0.851196   \n",
              "50%                       0.005546       0.111407           0.888593   \n",
              "75%                       0.009273       0.148804           0.927109   \n",
              "max           9,940,000,000.000000       1.000000           1.000000   \n",
              "\n",
              "        Long-term fund suitability ratio (A)   Borrowing dependency  \\\n",
              "count                           6,819.000000           6,819.000000   \n",
              "mean                                0.008783               0.374654   \n",
              "std                                 0.028153               0.016286   \n",
              "min                                 0.000000               0.000000   \n",
              "25%                                 0.005244               0.370168   \n",
              "50%                                 0.005665               0.372624   \n",
              "75%                                 0.006847               0.376271   \n",
              "max                                 1.000000               1.000000   \n",
              "\n",
              "        Contingent liabilities/Net worth   Operating profit/Paid-in capital  \\\n",
              "count                       6,819.000000                       6,819.000000   \n",
              "mean                            0.005968                           0.108977   \n",
              "std                             0.012188                           0.027782   \n",
              "min                             0.000000                           0.000000   \n",
              "25%                             0.005366                           0.096105   \n",
              "50%                             0.005366                           0.104133   \n",
              "75%                             0.005764                           0.115927   \n",
              "max                             1.000000                           1.000000   \n",
              "\n",
              "        Net profit before tax/Paid-in capital  \\\n",
              "count                            6,819.000000   \n",
              "mean                                 0.182715   \n",
              "std                                  0.030785   \n",
              "min                                  0.000000   \n",
              "25%                                  0.169376   \n",
              "50%                                  0.178456   \n",
              "75%                                  0.191607   \n",
              "max                                  1.000000   \n",
              "\n",
              "        Inventory and accounts receivable/Net value   Total Asset Turnover  \\\n",
              "count                                  6,819.000000           6,819.000000   \n",
              "mean                                       0.402459               0.141606   \n",
              "std                                        0.013324               0.101145   \n",
              "min                                        0.000000               0.000000   \n",
              "25%                                        0.397403               0.076462   \n",
              "50%                                        0.400131               0.118441   \n",
              "75%                                        0.404551               0.176912   \n",
              "max                                        1.000000               1.000000   \n",
              "\n",
              "        Accounts Receivable Turnover   Average Collection Days  \\\n",
              "count                   6,819.000000              6,819.000000   \n",
              "mean               12,789,705.237554          9,826,220.861192   \n",
              "std               278,259,836.984053        256,358,895.705332   \n",
              "min                         0.000000                  0.000000   \n",
              "25%                         0.000710                  0.004387   \n",
              "50%                         0.000968                  0.006573   \n",
              "75%                         0.001455                  0.008973   \n",
              "max             9,740,000,000.000000      9,730,000,000.000000   \n",
              "\n",
              "        Inventory Turnover Rate (times)   Fixed Assets Turnover Frequency  \\\n",
              "count                      6,819.000000                      6,819.000000   \n",
              "mean               2,149,106,056.607530              1,008,595,981.817477   \n",
              "std                3,247,967,014.047904              2,477,557,316.920172   \n",
              "min                            0.000000                          0.000000   \n",
              "25%                            0.000173                          0.000233   \n",
              "50%                            0.000765                          0.000593   \n",
              "75%                4,620,000,000.000000                          0.003652   \n",
              "max                9,990,000,000.000000              9,990,000,000.000000   \n",
              "\n",
              "        Net Worth Turnover Rate (times)   Revenue per person  \\\n",
              "count                      6,819.000000         6,819.000000   \n",
              "mean                           0.038595     2,325,854.266358   \n",
              "std                            0.036680   136,632,654.389936   \n",
              "min                            0.000000             0.000000   \n",
              "25%                            0.021774             0.010433   \n",
              "50%                            0.029516             0.018616   \n",
              "75%                            0.042903             0.035855   \n",
              "max                            1.000000 8,810,000,000.000000   \n",
              "\n",
              "        Operating profit per person   Allocation rate per person  \\\n",
              "count                  6,819.000000                 6,819.000000   \n",
              "mean                       0.400671            11,255,785.321742   \n",
              "std                        0.032720           294,506,294.116772   \n",
              "min                        0.000000                     0.000000   \n",
              "25%                        0.392438                     0.004121   \n",
              "50%                        0.395898                     0.007844   \n",
              "75%                        0.401851                     0.015020   \n",
              "max                        1.000000         9,570,000,000.000000   \n",
              "\n",
              "        Working Capital to Total Assets   Quick Assets/Total Assets  \\\n",
              "count                      6,819.000000                6,819.000000   \n",
              "mean                           0.814125                    0.400132   \n",
              "std                            0.059054                    0.201998   \n",
              "min                            0.000000                    0.000000   \n",
              "25%                            0.774309                    0.241973   \n",
              "50%                            0.810275                    0.386451   \n",
              "75%                            0.850383                    0.540594   \n",
              "max                            1.000000                    1.000000   \n",
              "\n",
              "        Current Assets/Total Assets   Cash/Total Assets  \\\n",
              "count                  6,819.000000        6,819.000000   \n",
              "mean                       0.522273            0.124095   \n",
              "std                        0.218112            0.139251   \n",
              "min                        0.000000            0.000000   \n",
              "25%                        0.352845            0.033543   \n",
              "50%                        0.514830            0.074887   \n",
              "75%                        0.689051            0.161073   \n",
              "max                        1.000000            1.000000   \n",
              "\n",
              "        Quick Assets/Current Liability   Cash/Current Liability  \\\n",
              "count                     6,819.000000             6,819.000000   \n",
              "mean                  3,592,902.196830        37,159,994.147133   \n",
              "std                 171,620,908.606822       510,350,903.162733   \n",
              "min                           0.000000                 0.000000   \n",
              "25%                           0.005240                 0.001973   \n",
              "50%                           0.007909                 0.004904   \n",
              "75%                           0.012951                 0.012806   \n",
              "max               8,820,000,000.000000     9,650,000,000.000000   \n",
              "\n",
              "        Current Liability to Assets   Operating Funds to Liability  \\\n",
              "count                  6,819.000000                   6,819.000000   \n",
              "mean                       0.090673                       0.353828   \n",
              "std                        0.050290                       0.035147   \n",
              "min                        0.000000                       0.000000   \n",
              "25%                        0.053301                       0.341023   \n",
              "50%                        0.082705                       0.348597   \n",
              "75%                        0.119523                       0.360915   \n",
              "max                        1.000000                       1.000000   \n",
              "\n",
              "        Inventory/Working Capital   Inventory/Current Liability  \\\n",
              "count                6,819.000000                  6,819.000000   \n",
              "mean                     0.277395             55,806,804.525780   \n",
              "std                      0.010469            582,051,554.619420   \n",
              "min                      0.000000                      0.000000   \n",
              "25%                      0.277034                      0.003163   \n",
              "50%                      0.277178                      0.006497   \n",
              "75%                      0.277429                      0.011147   \n",
              "max                      1.000000          9,910,000,000.000000   \n",
              "\n",
              "        Current Liabilities/Liability   Working Capital/Equity  \\\n",
              "count                    6,819.000000             6,819.000000   \n",
              "mean                         0.761599                 0.735817   \n",
              "std                          0.206677                 0.011678   \n",
              "min                          0.000000                 0.000000   \n",
              "25%                          0.626981                 0.733612   \n",
              "50%                          0.806881                 0.736013   \n",
              "75%                          0.942027                 0.738560   \n",
              "max                          1.000000                 1.000000   \n",
              "\n",
              "        Current Liabilities/Equity   Long-term Liability to Current Assets  \\\n",
              "count                 6,819.000000                            6,819.000000   \n",
              "mean                      0.331410                       54,160,038.135894   \n",
              "std                       0.013488                      570,270,621.959227   \n",
              "min                       0.000000                                0.000000   \n",
              "25%                       0.328096                                0.000000   \n",
              "50%                       0.329685                                0.001975   \n",
              "75%                       0.332322                                0.009006   \n",
              "max                       1.000000                    9,540,000,000.000000   \n",
              "\n",
              "        Retained Earnings to Total Assets   Total income/Total expense  \\\n",
              "count                        6,819.000000                 6,819.000000   \n",
              "mean                             0.934733                     0.002549   \n",
              "std                              0.025564                     0.012093   \n",
              "min                              0.000000                     0.000000   \n",
              "25%                              0.931097                     0.002236   \n",
              "50%                              0.937672                     0.002336   \n",
              "75%                              0.944811                     0.002492   \n",
              "max                              1.000000                     1.000000   \n",
              "\n",
              "        Total expense/Assets   Current Asset Turnover Rate  \\\n",
              "count           6,819.000000                  6,819.000000   \n",
              "mean                0.029184          1,195,855,763.308841   \n",
              "std                 0.027149          2,821,161,238.262457   \n",
              "min                 0.000000                      0.000000   \n",
              "25%                 0.014567                      0.000146   \n",
              "50%                 0.022674                      0.000199   \n",
              "75%                 0.035930                      0.000453   \n",
              "max                 1.000000         10,000,000,000.000000   \n",
              "\n",
              "        Quick Asset Turnover Rate   Working capitcal Turnover Rate  \\\n",
              "count                6,819.000000                     6,819.000000   \n",
              "mean         2,163,735,272.034319                         0.594006   \n",
              "std          3,374,944,402.166119                         0.008959   \n",
              "min                      0.000000                         0.000000   \n",
              "25%                      0.000142                         0.593934   \n",
              "50%                      0.000225                         0.593963   \n",
              "75%          4,900,000,000.000000                         0.594002   \n",
              "max         10,000,000,000.000000                         1.000000   \n",
              "\n",
              "         Cash Turnover Rate   Cash Flow to Sales   Fixed Assets to Assets  \\\n",
              "count          6,819.000000         6,819.000000             6,819.000000   \n",
              "mean   2,471,976,967.444247             0.671531         1,220,120.501590   \n",
              "std    2,938,623,226.678810             0.009341       100,754,158.713168   \n",
              "min                0.000000             0.000000                 0.000000   \n",
              "25%                0.000274             0.671565                 0.085360   \n",
              "50%    1,080,000,000.000000             0.671574                 0.196881   \n",
              "75%    4,510,000,000.000000             0.671587                 0.372200   \n",
              "max   10,000,000,000.000000             1.000000     8,320,000,000.000000   \n",
              "\n",
              "        Current Liability to Liability   Current Liability to Equity  \\\n",
              "count                     6,819.000000                  6,819.000000   \n",
              "mean                          0.761599                      0.331410   \n",
              "std                           0.206677                      0.013488   \n",
              "min                           0.000000                      0.000000   \n",
              "25%                           0.626981                      0.328096   \n",
              "50%                           0.806881                      0.329685   \n",
              "75%                           0.942027                      0.332322   \n",
              "max                           1.000000                      1.000000   \n",
              "\n",
              "        Equity to Long-term Liability   Cash Flow to Total Assets  \\\n",
              "count                    6,819.000000                6,819.000000   \n",
              "mean                         0.115645                    0.649731   \n",
              "std                          0.019529                    0.047372   \n",
              "min                          0.000000                    0.000000   \n",
              "25%                          0.110933                    0.633265   \n",
              "50%                          0.112340                    0.645366   \n",
              "75%                          0.117106                    0.663062   \n",
              "max                          1.000000                    1.000000   \n",
              "\n",
              "        Cash Flow to Liability   CFO to Assets   Cash Flow to Equity  \\\n",
              "count             6,819.000000    6,819.000000          6,819.000000   \n",
              "mean                  0.461849        0.593415              0.315582   \n",
              "std                   0.029943        0.058561              0.012961   \n",
              "min                   0.000000        0.000000              0.000000   \n",
              "25%                   0.457116        0.565987              0.312995   \n",
              "50%                   0.459750        0.593266              0.314953   \n",
              "75%                   0.464236        0.624769              0.317707   \n",
              "max                   1.000000        1.000000              1.000000   \n",
              "\n",
              "        Current Liability to Current Assets   Net Income to Total Assets  \\\n",
              "count                          6,819.000000                 6,819.000000   \n",
              "mean                               0.031506                     0.807760   \n",
              "std                                0.030845                     0.040332   \n",
              "min                                0.000000                     0.000000   \n",
              "25%                                0.018034                     0.796750   \n",
              "50%                                0.027597                     0.810619   \n",
              "75%                                0.038375                     0.826455   \n",
              "max                                1.000000                     1.000000   \n",
              "\n",
              "        Total assets to GNP price   No-credit Interval  \\\n",
              "count                6,819.000000         6,819.000000   \n",
              "mean            18,629,417.811836             0.623915   \n",
              "std            376,450,059.745829             0.012290   \n",
              "min                      0.000000             0.000000   \n",
              "25%                      0.000904             0.623636   \n",
              "50%                      0.002085             0.623879   \n",
              "75%                      0.005270             0.624168   \n",
              "max          9,820,000,000.000000             1.000000   \n",
              "\n",
              "        Gross Profit to Sales   Net Income to Stockholder's Equity  \\\n",
              "count            6,819.000000                         6,819.000000   \n",
              "mean                 0.607946                             0.840402   \n",
              "std                  0.016934                             0.014523   \n",
              "min                  0.000000                             0.000000   \n",
              "25%                  0.600443                             0.840115   \n",
              "50%                  0.605998                             0.841179   \n",
              "75%                  0.613913                             0.842357   \n",
              "max                  1.000000                             1.000000   \n",
              "\n",
              "        Liability to Equity   Degree of Financial Leverage (DFL)  \\\n",
              "count          6,819.000000                         6,819.000000   \n",
              "mean               0.280365                             0.027541   \n",
              "std                0.014463                             0.015668   \n",
              "min                0.000000                             0.000000   \n",
              "25%                0.276944                             0.026791   \n",
              "50%                0.278778                             0.026808   \n",
              "75%                0.281449                             0.026913   \n",
              "max                1.000000                             1.000000   \n",
              "\n",
              "        Interest Coverage Ratio (Interest expense to EBIT)  \\\n",
              "count                                       6,819.000000     \n",
              "mean                                            0.565358     \n",
              "std                                             0.013214     \n",
              "min                                             0.000000     \n",
              "25%                                             0.565158     \n",
              "50%                                             0.565252     \n",
              "75%                                             0.565725     \n",
              "max                                             1.000000     \n",
              "\n",
              "        Equity to Liability  \n",
              "count          6,819.000000  \n",
              "mean               0.047578  \n",
              "std                0.050014  \n",
              "min                0.000000  \n",
              "25%                0.024477  \n",
              "50%                0.033798  \n",
              "75%                0.052838  \n",
              "max                1.000000  "
            ]
          },
          "metadata": {},
          "execution_count": 13
        }
      ]
    },
    {
      "cell_type": "markdown",
      "metadata": {
        "id": "5tLQXz4Lxw41"
      },
      "source": [
        "# **Feature Selection**"
      ]
    },
    {
      "cell_type": "markdown",
      "metadata": {
        "id": "Srp4iPtm8eJH"
      },
      "source": [
        "## **1. Using VIF.**"
      ]
    },
    {
      "cell_type": "code",
      "metadata": {
        "id": "h-sWP9S0FFpK"
      },
      "source": [
        "y=df_1['Bankrupt?']\n",
        "X_1=df_1.drop(columns='Bankrupt?')"
      ],
      "execution_count": 14,
      "outputs": []
    },
    {
      "cell_type": "code",
      "metadata": {
        "id": "UpnKcBXFp495"
      },
      "source": [
        "# # VIF dataframe\n",
        "# vif_data = pd.DataFrame()\n",
        "# vif_data[\"feature\"] = vif_df.columns"
      ],
      "execution_count": 16,
      "outputs": []
    },
    {
      "cell_type": "code",
      "metadata": {
        "colab": {
          "base_uri": "https://localhost:8080/"
        },
        "id": "jl6GG_hJQozN",
        "outputId": "2f7224e8-5eff-4184-8e8b-ceaa7b842110"
      },
      "source": [
        "X_1.shape"
      ],
      "execution_count": 17,
      "outputs": [
        {
          "output_type": "execute_result",
          "data": {
            "text/plain": [
              "(6819, 93)"
            ]
          },
          "metadata": {},
          "execution_count": 17
        }
      ]
    },
    {
      "cell_type": "code",
      "metadata": {
        "id": "1TDWMtW1H-aJ"
      },
      "source": [
        "# skewness=PowerTransformer()\n",
        "# X_1_transformed=pd.DataFrame(skewness.fit_transform(X_1), columns=X_1.columns)\n",
        "X_1_transformed=X_1.copy()"
      ],
      "execution_count": 18,
      "outputs": []
    },
    {
      "cell_type": "code",
      "metadata": {
        "colab": {
          "base_uri": "https://localhost:8080/"
        },
        "id": "g2ZopuISQh3t",
        "outputId": "669c1b43-aa87-422b-f559-82e42fc401fc"
      },
      "source": [
        "\n",
        "X_1_transformed.shape"
      ],
      "execution_count": 19,
      "outputs": [
        {
          "output_type": "execute_result",
          "data": {
            "text/plain": [
              "(6819, 93)"
            ]
          },
          "metadata": {},
          "execution_count": 19
        }
      ]
    },
    {
      "cell_type": "code",
      "metadata": {
        "id": "EunX_ucH9A29"
      },
      "source": [
        "#cols_removed_vif=[]\n",
        "#=[x for x in X_1_transformed.columns if x not in cols_removed_vif]"
      ],
      "execution_count": 20,
      "outputs": []
    },
    {
      "cell_type": "code",
      "metadata": {
        "id": "9HLjeneCJcab"
      },
      "source": [
        "# columns_after_vif=[x for x in X_1_transformed.columns if x not in cols_removed_vif]"
      ],
      "execution_count": 21,
      "outputs": []
    },
    {
      "cell_type": "code",
      "metadata": {
        "id": "svXzGrUS8aqm"
      },
      "source": [
        "empty_=0\n",
        "vif_data = pd.DataFrame()\n",
        "cols_removed_vif=[]\n",
        "columns_after_vif=[x for x in X_1_transformed.columns]\n",
        "while empty_ ==0:\n",
        " \n",
        "  # VIF dataframe\n",
        "  vif_data = pd.DataFrame()\n",
        "  vif_data[\"feature\"] = columns_after_vif\n",
        "  vif_data[\"VIF\"] = [variance_inflation_factor(X_1_transformed[columns_after_vif].values, i)\n",
        "                              for i in range(len(columns_after_vif))]  \n",
        "  # calculating VIF for each feature\n",
        "  if np.array(vif_data['VIF'])[-1:]>=15:\n",
        "    cols_removed_vif.extend([x for x in vif_data.sort_values('VIF')['feature'][-1:] if x not in cols_removed_vif])\n",
        "    columns_after_vif=[x for x in X_1_transformed.columns if x not in cols_removed_vif]                          \n",
        "    empty_=0\n",
        "  else:\n",
        "    empty_=2\n"
      ],
      "execution_count": 22,
      "outputs": []
    },
    {
      "cell_type": "code",
      "metadata": {
        "colab": {
          "base_uri": "https://localhost:8080/"
        },
        "id": "EdPFrMCmgTK0",
        "outputId": "29048a37-01fb-4da2-8f9d-0c226a6f9230"
      },
      "source": [
        "len(columns_after_vif)"
      ],
      "execution_count": 23,
      "outputs": [
        {
          "output_type": "execute_result",
          "data": {
            "text/plain": [
              "93"
            ]
          },
          "metadata": {},
          "execution_count": 23
        }
      ]
    },
    {
      "cell_type": "code",
      "metadata": {
        "colab": {
          "base_uri": "https://localhost:8080/"
        },
        "id": "borjzidagg-U",
        "outputId": "c8247fbe-58a4-4bd9-dc27-75300dd61220"
      },
      "source": [
        "len(cols_removed_vif)"
      ],
      "execution_count": 24,
      "outputs": [
        {
          "output_type": "execute_result",
          "data": {
            "text/plain": [
              "0"
            ]
          },
          "metadata": {},
          "execution_count": 24
        }
      ]
    },
    {
      "cell_type": "code",
      "metadata": {
        "id": "O2ZGFnPV8yon"
      },
      "source": [
        "# cols_removed_vif.extend([x for x in vif_data.sort_values('VIF')['feature'][-1:] if x not in cols_removed_vif])\n",
        "# cols_removed_vif"
      ],
      "execution_count": 25,
      "outputs": []
    },
    {
      "cell_type": "code",
      "metadata": {
        "id": "JyYwGZD30Wy-"
      },
      "source": [
        "vif_final=X_1[[x for x in X_1.columns if x not in cols_removed_vif]]"
      ],
      "execution_count": 26,
      "outputs": []
    },
    {
      "cell_type": "code",
      "metadata": {
        "colab": {
          "base_uri": "https://localhost:8080/"
        },
        "id": "pAqkcslu1MbM",
        "outputId": "2ac283b3-caea-4589-ecbd-f1c866a55acc"
      },
      "source": [
        "vif_final.shape"
      ],
      "execution_count": 27,
      "outputs": [
        {
          "output_type": "execute_result",
          "data": {
            "text/plain": [
              "(6819, 93)"
            ]
          },
          "metadata": {},
          "execution_count": 27
        }
      ]
    },
    {
      "cell_type": "markdown",
      "metadata": {
        "id": "kc-i9L17Fx7l"
      },
      "source": [
        "## **2. Using p_values**"
      ]
    },
    {
      "cell_type": "code",
      "metadata": {
        "id": "H26DesIWGB4X"
      },
      "source": [
        "skewness=PowerTransformer(standardize=True)\n",
        "vif_final_transformed=pd.DataFrame(skewness.fit_transform(vif_final), columns=vif_final.columns)"
      ],
      "execution_count": 28,
      "outputs": []
    },
    {
      "cell_type": "code",
      "metadata": {
        "id": "nFj0Ty6EGBu3"
      },
      "source": [
        "vif_final_GLM=vif_final_transformed.copy()\n",
        "vif_final_GLM.set_axis(['x'+str(i) for i in range(0,len(vif_final.columns))], axis='columns', inplace=True)\n",
        "formula = \" Bankrupt ~ \"+ '+'.join(vif_final_GLM.columns)\n",
        "vif_final_GLM['Bankrupt']=y"
      ],
      "execution_count": 29,
      "outputs": []
    },
    {
      "cell_type": "code",
      "metadata": {
        "id": "EtP-QgkXF9Qq"
      },
      "source": [
        "model = sm.GLM.from_formula(formula, family=sm.families.Binomial(), data=vif_final_GLM)\n",
        "result = model.fit()\n",
        "#result.summary() "
      ],
      "execution_count": 30,
      "outputs": []
    },
    {
      "cell_type": "code",
      "metadata": {
        "colab": {
          "base_uri": "https://localhost:8080/"
        },
        "id": "wfFd1k_hF9Nc",
        "outputId": "7aa62880-bb04-42af-f7f1-bdf18fba05ec"
      },
      "source": [
        "p_val=pd.DataFrame(zip(vif_final_transformed.columns,result.pvalues[1:]),columns=['column','p_values'])\n",
        "columns_based_on_p_and_vif=[x for x in p_val[p_val.p_values<=0.05]['column']]\n",
        "len(columns_based_on_p_and_vif)"
      ],
      "execution_count": 31,
      "outputs": [
        {
          "output_type": "execute_result",
          "data": {
            "text/plain": [
              "20"
            ]
          },
          "metadata": {},
          "execution_count": 31
        }
      ]
    },
    {
      "cell_type": "markdown",
      "metadata": {
        "id": "uIiGjc1FG15p"
      },
      "source": [
        "## **3. Using on L1 Regularization.**"
      ]
    },
    {
      "cell_type": "code",
      "metadata": {
        "id": "eu0094kEF9KT"
      },
      "source": [
        "skewness=PowerTransformer(standardize=False)\n",
        "vif_final=pd.DataFrame(skewness.fit_transform(vif_final), columns=vif_final.columns)"
      ],
      "execution_count": 32,
      "outputs": []
    },
    {
      "cell_type": "code",
      "metadata": {
        "id": "O_A_c3fiiaGP"
      },
      "source": [
        "X_train, X_test, y_train, y_test=train_test_split(vif_final,y,test_size=0.25,stratify=y, random_state=43)"
      ],
      "execution_count": 33,
      "outputs": []
    },
    {
      "cell_type": "code",
      "metadata": {
        "colab": {
          "base_uri": "https://localhost:8080/"
        },
        "id": "mPNGP_f7mKfI",
        "outputId": "9bfe883a-114f-418a-a7f3-916e90f5564b"
      },
      "source": [
        "X_train.shape"
      ],
      "execution_count": 34,
      "outputs": [
        {
          "output_type": "execute_result",
          "data": {
            "text/plain": [
              "(5114, 93)"
            ]
          },
          "metadata": {},
          "execution_count": 34
        }
      ]
    },
    {
      "cell_type": "code",
      "metadata": {
        "id": "0NXkBVUJj4Kb"
      },
      "source": [
        "scaler=StandardScaler()\n",
        "X_train=scaler.fit_transform(X_train)\n",
        "X_test=scaler.transform(X_test)"
      ],
      "execution_count": 35,
      "outputs": []
    },
    {
      "cell_type": "code",
      "metadata": {
        "colab": {
          "base_uri": "https://localhost:8080/"
        },
        "id": "t_TYU_yEF9GK",
        "outputId": "7d7bf406-22ea-4c3f-8b35-57b22335391c"
      },
      "source": [
        "lr=LogisticRegression(penalty='l1',solver='saga',class_weight='balanced',C=0.01)\n",
        "lr.fit(X_train,y_train)\n",
        "y_train_pred=lr.predict(X_train)\n",
        "y_test_pred=lr.predict(X_test)\n",
        "print(confusion_matrix(y_train,y_train_pred))\n",
        "print(classification_report(y_train,y_train_pred))\n",
        "print(confusion_matrix(y_test,y_test_pred))\n",
        "print(classification_report(y_test,y_test_pred))"
      ],
      "execution_count": 36,
      "outputs": [
        {
          "output_type": "stream",
          "name": "stdout",
          "text": [
            "[[4226  723]\n",
            " [  18  147]]\n",
            "              precision    recall  f1-score   support\n",
            "\n",
            "           0       1.00      0.85      0.92      4949\n",
            "           1       0.17      0.89      0.28       165\n",
            "\n",
            "    accuracy                           0.86      5114\n",
            "   macro avg       0.58      0.87      0.60      5114\n",
            "weighted avg       0.97      0.86      0.90      5114\n",
            "\n",
            "[[1406  244]\n",
            " [   3   52]]\n",
            "              precision    recall  f1-score   support\n",
            "\n",
            "           0       1.00      0.85      0.92      1650\n",
            "           1       0.18      0.95      0.30        55\n",
            "\n",
            "    accuracy                           0.86      1705\n",
            "   macro avg       0.59      0.90      0.61      1705\n",
            "weighted avg       0.97      0.86      0.90      1705\n",
            "\n"
          ]
        }
      ]
    },
    {
      "cell_type": "code",
      "metadata": {
        "colab": {
          "base_uri": "https://localhost:8080/"
        },
        "id": "dgnLfCSYlC0e",
        "outputId": "312e31e2-d991-4675-9745-4028abed2442"
      },
      "source": [
        "lr.coef_"
      ],
      "execution_count": 37,
      "outputs": [
        {
          "output_type": "execute_result",
          "data": {
            "text/plain": [
              "array([[-0.02479326, -0.01104881, -0.18707185,  0.        ,  0.        ,\n",
              "         0.        ,  0.        ,  0.        ,  0.        ,  0.        ,\n",
              "         0.        ,  0.        ,  0.        ,  0.        , -0.01453703,\n",
              "         0.        ,  0.        ,  0.        , -0.38580146,  0.        ,\n",
              "        -0.01651382,  0.        ,  0.        ,  0.        ,  0.        ,\n",
              "         0.        ,  0.        , -0.01389611,  0.        ,  0.        ,\n",
              "         0.        ,  0.        ,  0.        ,  0.        ,  0.        ,\n",
              "         0.13551777,  0.22841157, -0.24995479,  0.        ,  0.        ,\n",
              "         0.        ,  0.        , -0.08982527,  0.        , -0.1610681 ,\n",
              "        -0.02900015,  0.        ,  0.        ,  0.0011994 ,  0.        ,\n",
              "         0.        ,  0.        ,  0.21738796,  0.        ,  0.        ,\n",
              "         0.        , -0.18611409,  0.        ,  0.02480708,  0.13770406,\n",
              "         0.        , -0.03098199,  0.        ,  0.        ,  0.        ,\n",
              "         0.        ,  0.        , -0.1337936 ,  0.        ,  0.        ,\n",
              "         0.        ,  0.        ,  0.        ,  0.        ,  0.        ,\n",
              "         0.        ,  0.        ,  0.        ,  0.08982953,  0.        ,\n",
              "        -0.1164558 ,  0.        ,  0.        ,  0.16646211, -0.43133716,\n",
              "         0.        ,  0.        ,  0.        ,  0.        ,  0.        ,\n",
              "         0.05511683,  0.        , -0.12059003]])"
            ]
          },
          "metadata": {},
          "execution_count": 37
        }
      ]
    },
    {
      "cell_type": "code",
      "metadata": {
        "colab": {
          "base_uri": "https://localhost:8080/"
        },
        "id": "6v3jhSTjlWjA",
        "outputId": "4f6a115d-27c4-49d7-ff17-b852413e3244"
      },
      "source": [
        "coef_df=pd.DataFrame(zip(vif_final[columns_based_on_p_and_vif].columns,lr.coef_.reshape(-1,1)),columns=['column','coeff'])\n",
        "columns_after_vif_l1=[x for x in coef_df[coef_df.coeff!=0]['column']]\n",
        "len(columns_after_vif_l1)"
      ],
      "execution_count": 38,
      "outputs": [
        {
          "output_type": "execute_result",
          "data": {
            "text/plain": [
              "5"
            ]
          },
          "metadata": {},
          "execution_count": 38
        }
      ]
    },
    {
      "cell_type": "code",
      "metadata": {
        "colab": {
          "base_uri": "https://localhost:8080/"
        },
        "id": "6PXa2Z4SjKSy",
        "outputId": "84c7018d-a111-48e8-ba8d-b39b248525b0"
      },
      "source": [
        "roc_auc_score(y_test,y_test_pred)"
      ],
      "execution_count": 39,
      "outputs": [
        {
          "output_type": "execute_result",
          "data": {
            "text/plain": [
              "0.8987878787878787"
            ]
          },
          "metadata": {},
          "execution_count": 39
        }
      ]
    },
    {
      "cell_type": "markdown",
      "metadata": {
        "id": "o9FKg9yWXxLF"
      },
      "source": [
        "# **Logistic Regression**"
      ]
    },
    {
      "cell_type": "code",
      "metadata": {
        "id": "cmPUc8ZKfkVt"
      },
      "source": [
        "#[columns_based_on_p]\n",
        "#[coef_columns]"
      ],
      "execution_count": 45,
      "outputs": []
    },
    {
      "cell_type": "code",
      "metadata": {
        "id": "ajka_LXO7C1c"
      },
      "source": [
        "skewness=PowerTransformer(standardize=True)\n",
        "X_1=pd.DataFrame(skewness.fit_transform(X_1), columns=X_1.columns)"
      ],
      "execution_count": 46,
      "outputs": []
    },
    {
      "cell_type": "code",
      "metadata": {
        "id": "S2sg0p8cazpB"
      },
      "source": [
        "X_train, X_test, y_train, y_test=train_test_split(X_1[zq],y,test_size=0.25, stratify=y, random_state=99)\n"
      ],
      "execution_count": 47,
      "outputs": []
    },
    {
      "cell_type": "code",
      "metadata": {
        "colab": {
          "base_uri": "https://localhost:8080/"
        },
        "id": "Rd3gS-cLZDw9",
        "outputId": "8db3b0bc-4ffc-472b-b0ff-c45114249554"
      },
      "source": [
        "X_train.shape"
      ],
      "execution_count": 48,
      "outputs": [
        {
          "output_type": "execute_result",
          "data": {
            "text/plain": [
              "(5114, 31)"
            ]
          },
          "metadata": {},
          "execution_count": 48
        }
      ]
    },
    {
      "cell_type": "code",
      "metadata": {
        "id": "OcqRd4XHCQka"
      },
      "source": [
        "scaler=StandardScaler()\n",
        "X_train=scaler.fit_transform(X_train)\n",
        "X_test=scaler.transform(X_test)"
      ],
      "execution_count": 49,
      "outputs": []
    },
    {
      "cell_type": "code",
      "metadata": {
        "id": "Q-Exazu4CFgo"
      },
      "source": [
        "# #importing and fitting the data to the PCA\n",
        "# from sklearn.decomposition import PCA\n",
        "# pca = PCA(n_components=20)\n",
        "# pca.fit(X_train)\n",
        "# # transforming the principal components to the original values\n",
        "# X_train=pca.transform(X_train)\n",
        "# X_test=pca.transform(X_test)"
      ],
      "execution_count": 50,
      "outputs": []
    },
    {
      "cell_type": "code",
      "metadata": {
        "id": "Z_cYB9B33Kkc"
      },
      "source": [
        ""
      ],
      "execution_count": 50,
      "outputs": []
    },
    {
      "cell_type": "code",
      "metadata": {
        "colab": {
          "base_uri": "https://localhost:8080/"
        },
        "id": "am-qT5enXJYn",
        "outputId": "57fcd4e0-fbbc-4f7d-d868-f1d57a0b7fc8"
      },
      "source": [
        "lr=LogisticRegression(class_weight='balanced',C=1)\n",
        "lr.fit(X_train,y_train)\n",
        "y_train_pred=lr.predict(X_train)\n",
        "y_test_pred=lr.predict(X_test)\n",
        "print(confusion_matrix(y_train,y_train_pred))\n",
        "print(classification_report(y_train,y_train_pred))\n",
        "print(confusion_matrix(y_test,y_test_pred))\n",
        "print(classification_report(y_test,y_test_pred))"
      ],
      "execution_count": 51,
      "outputs": [
        {
          "output_type": "stream",
          "name": "stdout",
          "text": [
            "[[4187  762]\n",
            " [  20  145]]\n",
            "              precision    recall  f1-score   support\n",
            "\n",
            "           0       1.00      0.85      0.91      4949\n",
            "           1       0.16      0.88      0.27       165\n",
            "\n",
            "    accuracy                           0.85      5114\n",
            "   macro avg       0.58      0.86      0.59      5114\n",
            "weighted avg       0.97      0.85      0.89      5114\n",
            "\n",
            "[[1423  227]\n",
            " [   9   46]]\n",
            "              precision    recall  f1-score   support\n",
            "\n",
            "           0       0.99      0.86      0.92      1650\n",
            "           1       0.17      0.84      0.28        55\n",
            "\n",
            "    accuracy                           0.86      1705\n",
            "   macro avg       0.58      0.85      0.60      1705\n",
            "weighted avg       0.97      0.86      0.90      1705\n",
            "\n"
          ]
        }
      ]
    },
    {
      "cell_type": "code",
      "metadata": {
        "colab": {
          "base_uri": "https://localhost:8080/"
        },
        "id": "X0ysvAiVfqv9",
        "outputId": "95b939e1-696d-49a0-b10e-29f19262fe55"
      },
      "source": [
        "lr1=LogisticRegression(class_weight='balanced')\n",
        "lr_cv=GridSearchCV(estimator=lr1, param_grid={'C':[1,0.5,0.1,0.05,0.01,0.08]},scoring='f1')\n",
        "lr_cv.fit(X_train,y_train)"
      ],
      "execution_count": 52,
      "outputs": [
        {
          "output_type": "execute_result",
          "data": {
            "text/plain": [
              "GridSearchCV(cv=None, error_score=nan,\n",
              "             estimator=LogisticRegression(C=1.0, class_weight='balanced',\n",
              "                                          dual=False, fit_intercept=True,\n",
              "                                          intercept_scaling=1, l1_ratio=None,\n",
              "                                          max_iter=100, multi_class='auto',\n",
              "                                          n_jobs=None, penalty='l2',\n",
              "                                          random_state=None, solver='lbfgs',\n",
              "                                          tol=0.0001, verbose=0,\n",
              "                                          warm_start=False),\n",
              "             iid='deprecated', n_jobs=None,\n",
              "             param_grid={'C': [1, 0.5, 0.1, 0.05, 0.01, 0.08]},\n",
              "             pre_dispatch='2*n_jobs', refit=True, return_train_score=False,\n",
              "             scoring='f1', verbose=0)"
            ]
          },
          "metadata": {},
          "execution_count": 52
        }
      ]
    },
    {
      "cell_type": "code",
      "metadata": {
        "colab": {
          "base_uri": "https://localhost:8080/"
        },
        "id": "RxCbT5rg3RJP",
        "outputId": "ce285587-9c8a-41b6-a9cc-b0117e735240"
      },
      "source": [
        "lr_cv.best_params_"
      ],
      "execution_count": 53,
      "outputs": [
        {
          "output_type": "execute_result",
          "data": {
            "text/plain": [
              "{'C': 0.1}"
            ]
          },
          "metadata": {},
          "execution_count": 53
        }
      ]
    },
    {
      "cell_type": "code",
      "metadata": {
        "id": "6Dhc7b7ugpz_"
      },
      "source": [
        "# coef_df=pd.DataFrame(zip(vif_final_transformed.columns,lr.coef_.reshape(-1,1)),columns=['column','coeff'])\n",
        "# coef_columns=[x for x in coef_df[coef_df.coeff>0]['column']]"
      ],
      "execution_count": 54,
      "outputs": []
    },
    {
      "cell_type": "code",
      "metadata": {
        "id": "GQzDJEzywAef"
      },
      "source": [
        "# coef_columns"
      ],
      "execution_count": 55,
      "outputs": []
    },
    {
      "cell_type": "markdown",
      "metadata": {
        "id": "EztIv3ZdcUfZ"
      },
      "source": [
        "## 2.SVM"
      ]
    },
    {
      "cell_type": "code",
      "metadata": {
        "colab": {
          "base_uri": "https://localhost:8080/"
        },
        "id": "O0EeB0qHe3XE",
        "outputId": "0c48bf8a-573c-4a2b-b9bc-cfdbcd1acac8"
      },
      "source": [
        "X_train.shape"
      ],
      "execution_count": 56,
      "outputs": [
        {
          "output_type": "execute_result",
          "data": {
            "text/plain": [
              "(5114, 31)"
            ]
          },
          "metadata": {},
          "execution_count": 56
        }
      ]
    },
    {
      "cell_type": "code",
      "metadata": {
        "id": "QtMaQL8scT2w"
      },
      "source": [
        "svm_mod=SVC(kernel='poly',C=0.1, class_weight='balanced',gamma=0.08)\n",
        "svm_mod.fit(X_train,y_train)\n",
        "y_train_pred_svm=svm_mod.predict(X_train)\n",
        "y_test_pred_svm=svm_mod.predict(X_test)"
      ],
      "execution_count": 57,
      "outputs": []
    },
    {
      "cell_type": "code",
      "metadata": {
        "colab": {
          "base_uri": "https://localhost:8080/"
        },
        "id": "oXcNFruncT0T",
        "outputId": "ac52ba59-9d48-41e7-8b91-ba05532c22c2"
      },
      "source": [
        "print(confusion_matrix(y_train,y_train_pred_svm))\n",
        "print(classification_report(y_train,y_train_pred_svm))\n",
        "print(confusion_matrix(y_test,y_test_pred_svm))\n",
        "print(classification_report(y_test,y_test_pred_svm))"
      ],
      "execution_count": 58,
      "outputs": [
        {
          "output_type": "stream",
          "name": "stdout",
          "text": [
            "[[4665  284]\n",
            " [   6  159]]\n",
            "              precision    recall  f1-score   support\n",
            "\n",
            "           0       1.00      0.94      0.97      4949\n",
            "           1       0.36      0.96      0.52       165\n",
            "\n",
            "    accuracy                           0.94      5114\n",
            "   macro avg       0.68      0.95      0.75      5114\n",
            "weighted avg       0.98      0.94      0.96      5114\n",
            "\n",
            "[[1559   91]\n",
            " [  30   25]]\n",
            "              precision    recall  f1-score   support\n",
            "\n",
            "           0       0.98      0.94      0.96      1650\n",
            "           1       0.22      0.45      0.29        55\n",
            "\n",
            "    accuracy                           0.93      1705\n",
            "   macro avg       0.60      0.70      0.63      1705\n",
            "weighted avg       0.96      0.93      0.94      1705\n",
            "\n"
          ]
        }
      ]
    },
    {
      "cell_type": "code",
      "metadata": {
        "id": "WknMH_eZD3Tr"
      },
      "source": [
        ""
      ],
      "execution_count": 58,
      "outputs": []
    },
    {
      "cell_type": "code",
      "metadata": {
        "id": "WhA14ncrK77g"
      },
      "source": [
        "# oversample = SMOTE()\n",
        "# X_train, y_train = oversample.fit_resample(X_train, y_train)"
      ],
      "execution_count": 59,
      "outputs": []
    },
    {
      "cell_type": "code",
      "metadata": {
        "id": "uLxlc5eJ6Ooy",
        "colab": {
          "base_uri": "https://localhost:8080/"
        },
        "outputId": "8c21cf56-c0e4-45ed-d000-b7ae9d668e6a"
      },
      "source": [
        "estimator = []\n",
        "\n",
        "estimator.append(('LR', LogisticRegression(C=0.1,class_weight='balanced')))\n",
        "estimator.append(('Naive', GaussianNB()))\n",
        "estimator.append(('SVC1', SVC(kernel='linear',C=0.11, class_weight='balanced',gamma=0.01, probability=True)))\n",
        "estimator.append(('RFC1', RandomForestClassifier(n_estimators=500, criterion = 'gini', class_weight='balanced')))\n",
        "\n",
        "  \n",
        "# Voting Classifier with hard voting\n",
        "vot_hard = VotingClassifier(estimators = estimator, voting ='hard')\n",
        "vot_hard.fit(X_train, y_train)\n",
        "y_pred = vot_hard.predict(X_test)\n",
        "  \n",
        "# using accuracy_score metric to predict accuracy\n",
        "score = accuracy_score(y_test, y_pred)\n",
        "print(classification_report(y_test, y_pred))\n",
        "  \n",
        "# Voting Classifier with soft voting\n",
        "vot_soft = VotingClassifier(estimators = estimator, voting ='soft')\n",
        "vot_soft.fit(X_train, y_train)\n",
        "y_pred = vot_soft.predict(X_test)\n",
        "  \n",
        "# using accuracy_score\n",
        "score = accuracy_score(y_test, y_pred)\n",
        "print(classification_report(y_test, y_pred))"
      ],
      "execution_count": 60,
      "outputs": [
        {
          "output_type": "stream",
          "name": "stdout",
          "text": [
            "              precision    recall  f1-score   support\n",
            "\n",
            "           0       0.98      0.92      0.95      1650\n",
            "           1       0.19      0.53      0.28        55\n",
            "\n",
            "    accuracy                           0.91      1705\n",
            "   macro avg       0.59      0.73      0.61      1705\n",
            "weighted avg       0.96      0.91      0.93      1705\n",
            "\n",
            "              precision    recall  f1-score   support\n",
            "\n",
            "           0       0.98      0.97      0.98      1650\n",
            "           1       0.37      0.47      0.42        55\n",
            "\n",
            "    accuracy                           0.96      1705\n",
            "   macro avg       0.68      0.72      0.70      1705\n",
            "weighted avg       0.96      0.96      0.96      1705\n",
            "\n"
          ]
        }
      ]
    },
    {
      "cell_type": "code",
      "metadata": {
        "id": "P0OP43enafMp"
      },
      "source": [
        "forest = RandomForestClassifier(class_weight={0:1,1:18})\n",
        "balbag = BalancedBaggingClassifier(base_estimator = forest, n_estimators = 100, bootstrap = False,  bootstrap_features= True,\n",
        "                                  replacement = False, random_state = 5)\n",
        "model_full_sample = balbag.fit(X_train, y_train)"
      ],
      "execution_count": 61,
      "outputs": []
    },
    {
      "cell_type": "code",
      "metadata": {
        "colab": {
          "base_uri": "https://localhost:8080/"
        },
        "id": "NQ62KgFMamL1",
        "outputId": "9f68f42d-8198-461b-8a01-46e6c87f1b13"
      },
      "source": [
        "y_pred=model_full_sample.predict(X_test)\n",
        "print(confusion_matrix(y_test,y_pred))\n",
        "print(classification_report(y_test,y_pred))"
      ],
      "execution_count": 62,
      "outputs": [
        {
          "output_type": "stream",
          "name": "stdout",
          "text": [
            "[[1447  203]\n",
            " [  13   42]]\n",
            "              precision    recall  f1-score   support\n",
            "\n",
            "           0       0.99      0.88      0.93      1650\n",
            "           1       0.17      0.76      0.28        55\n",
            "\n",
            "    accuracy                           0.87      1705\n",
            "   macro avg       0.58      0.82      0.61      1705\n",
            "weighted avg       0.96      0.87      0.91      1705\n",
            "\n"
          ]
        }
      ]
    },
    {
      "cell_type": "code",
      "metadata": {
        "id": "F0JdHZ_4hHQ4"
      },
      "source": [
        ""
      ],
      "execution_count": 62,
      "outputs": []
    }
  ]
}